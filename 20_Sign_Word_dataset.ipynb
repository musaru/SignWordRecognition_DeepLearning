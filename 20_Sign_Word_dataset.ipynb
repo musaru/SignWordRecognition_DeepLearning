{
  "cells": [
    {
      "cell_type": "code",
      "execution_count": null,
      "metadata": {
        "colab": {
          "base_uri": "https://localhost:8080/"
        },
        "id": "fLYxMveeUYoE",
        "outputId": "5a2522e6-d259-43c2-9234-949639edd0ff"
      },
      "outputs": [
        {
          "output_type": "stream",
          "name": "stdout",
          "text": [
            "E: Package 'python-software-properties' has no installation candidate\n",
            "Selecting previously unselected package google-drive-ocamlfuse.\n",
            "(Reading database ... 155320 files and directories currently installed.)\n",
            "Preparing to unpack .../google-drive-ocamlfuse_0.7.27-0ubuntu1~ubuntu18.04.1_amd64.deb ...\n",
            "Unpacking google-drive-ocamlfuse (0.7.27-0ubuntu1~ubuntu18.04.1) ...\n",
            "Setting up google-drive-ocamlfuse (0.7.27-0ubuntu1~ubuntu18.04.1) ...\n",
            "Processing triggers for man-db (2.8.3-2ubuntu0.1) ...\n",
            "Please, open the following URL in a web browser: https://accounts.google.com/o/oauth2/auth?client_id=32555940559.apps.googleusercontent.com&redirect_uri=urn%3Aietf%3Awg%3Aoauth%3A2.0%3Aoob&scope=https%3A%2F%2Fwww.googleapis.com%2Fauth%2Fdrive&response_type=code&access_type=offline&approval_prompt=force\n",
            "··········\n",
            "Please, open the following URL in a web browser: https://accounts.google.com/o/oauth2/auth?client_id=32555940559.apps.googleusercontent.com&redirect_uri=urn%3Aietf%3Awg%3Aoauth%3A2.0%3Aoob&scope=https%3A%2F%2Fwww.googleapis.com%2Fauth%2Fdrive&response_type=code&access_type=offline&approval_prompt=force\n",
            "Please enter the verification code: Access token retrieved correctly.\n",
            "/content\n",
            "/content/drive\n",
            "/content\n",
            "/\n"
          ]
        }
      ],
      "source": [
        "!apt-get install -y -qq software-properties-common python-software-properties module-init-tools\n",
        "!add-apt-repository -y ppa:alessandro-strada/ppa 2>&1 > /dev/null\n",
        "!apt-get update -qq 2>&1 > /dev/null\n",
        "!apt-get -y install -qq google-drive-ocamlfuse fuse\n",
        "from google.colab import auth\n",
        "auth.authenticate_user()\n",
        "from oauth2client.client import GoogleCredentials\n",
        "creds = GoogleCredentials.get_application_default()\n",
        "import getpass\n",
        "!google-drive-ocamlfuse -headless -id={creds.client_id} -secret={creds.client_secret} < /dev/null 2>&1 | grep URL\n",
        "vcode = getpass.getpass()\n",
        "!echo {vcode} | google-drive-ocamlfuse -headless -id={creds.client_id} -secret={creds.client_secret}\n",
        "%cd /content\n",
        "!mkdir drive\n",
        "%cd drive\n",
        "!mkdir MyDrive\n",
        "%cd ..\n",
        "%cd ..\n",
        "!google-drive-ocamlfuse /content/drive/MyDrive"
      ]
    },
    {
      "cell_type": "code",
      "execution_count": null,
      "metadata": {
        "id": "8TGMWscesv6p"
      },
      "outputs": [],
      "source": [
        "\n",
        "\n",
        "import os, cv2, math\n",
        "import tensorflow as tf\n",
        "import numpy as np\n",
        "from tensorflow.keras.models import Sequential\n",
        "from tensorflow.keras.layers import Dense,Dropout,Activation,Flatten\n",
        "import pickle\n",
        "from tensorflow.keras.callbacks import TensorBoard\n",
        "\n",
        "import pandas as pd\n",
        "import matplotlib.pyplot as plt\n",
        "from keras.utils import np_utils\n",
        "from sklearn. model_selection import train_test_split\n",
        "from keras.layers import GlobalAveragePooling2D, Lambda, Conv2D, MaxPooling2D, Dropout, Dense, Flatten, Activation\n",
        "from keras.preprocessing.image import ImageDataGenerator\n",
        "from tensorflow.keras.optimizers import Adam, SGD\n",
        "import tensorflow_hub as hub\n",
        "from tensorflow.keras.layers import BatchNormalization"
      ]
    },
    {
      "cell_type": "markdown",
      "metadata": {
        "id": "4Qt531IrGqgH"
      },
      "source": [
        "#import Alla package"
      ]
    },
    {
      "cell_type": "code",
      "execution_count": null,
      "metadata": {
        "id": "BBtYBpxxt9SK"
      },
      "outputs": [],
      "source": [
        "import pickle\n",
        "import numpy as np\n",
        "import numpy as np\n",
        "import time\n",
        "import sklearn\n",
        "from sklearn.svm import LinearSVC, SVC\n",
        "from sklearn.model_selection import KFold\n",
        "from sklearn.feature_selection import mutual_info_classif\n",
        "from sklearn.model_selection import train_test_split\n",
        "from sklearn.decomposition import PCA\n",
        "from sklearn.linear_model import LogisticRegression\n",
        "from sklearn.ensemble import RandomForestClassifier\n",
        "from sklearn.neighbors import KNeighborsClassifier\n",
        "from sklearn.ensemble import RandomForestClassifier\n",
        "from sklearn.preprocessing import StandardScaler\n",
        "from tensorflow.keras.models import Sequential\n",
        "from tensorflow.keras.layers import Dense,Dropout,Activation,Flatten\n",
        "from tensorflow.keras.layers import Conv2D, MaxPooling2D\n",
        "#from keras import optimizers\n",
        "# import xgboost as xgb\n",
        "from sklearn.naive_bayes import GaussianNB\n",
        "#from sklearn.decomposition import PCA\n",
        "import matplotlib.pyplot as plt\n",
        "#from mlxtend.plotting import plot_decision_regions\n",
        "\n",
        "from sklearn.discriminant_analysis import LinearDiscriminantAnalysis\n",
        "\n",
        "import os, cv2, math\n",
        "import tensorflow as tf\n",
        "import numpy as np\n",
        "from tensorflow.keras.models import Sequential\n",
        "from tensorflow.keras.layers import Dense,Dropout,Activation,Flatten\n",
        "from tensorflow.keras.layers import Conv2D, MaxPooling2D\n",
        "import pickle\n",
        "from tensorflow.keras.callbacks import TensorBoard\n",
        "import time\n",
        "import datetime\n",
        "import numpy as np\n",
        "\n",
        "import tensorflow as tf\n",
        "from tensorflow.keras.models import Sequential\n",
        "from tensorflow.keras.layers import Dense,Dropout,Activation,Flatten\n",
        "from tensorflow.keras.layers import Conv2D, MaxPooling2D\n",
        "import pickle\n",
        "from tensorflow.keras.callbacks import TensorBoard\n",
        "from tensorflow.keras.layers import LSTM\n",
        "\n",
        "\n"
      ]
    },
    {
      "cell_type": "markdown",
      "metadata": {
        "id": "kEVO5z461zVS"
      },
      "source": [
        "#Atsu Segmentation"
      ]
    },
    {
      "cell_type": "code",
      "execution_count": null,
      "metadata": {
        "id": "SnQD2lGf11Gv"
      },
      "outputs": [],
      "source": [
        "import numpy as np\n",
        "import cv2\n",
        "from matplotlib import pyplot as plt\n",
        "import os\n",
        "import json\n",
        "def Atsu_Segmentation(img):\n",
        "    gray = cv2.cvtColor(img, cv2.COLOR_BGR2GRAY)\n",
        "    plt.imshow(gray)\n",
        "    plt.title(\"gray\")\n",
        "    plt.show()\n",
        "    th=50\n",
        "    lower_values = np.array((0, 138, 67), dtype=\"uint8\")\n",
        "    upper_values = np.array((255, 173, 133), dtype=\"uint8\")\n",
        "    #YCbCr_image = cv2.cvtColor(img, cv2.COLOR_BGR2YCR_CB)\n",
        "    ret, thresh = cv2.threshold(gray, th, 255,   cv2.THRESH_BINARY_INV+cv2.THRESH_OTSU)\n",
        "    r_image = cv2.cvtColor(img, cv2.COLOR_BGR2YCR_CB)\n",
        "    mask_r = cv2.inRange(r_image, lower_values, upper_values)\n",
        "    image = cv2.erode(mask_r , None, iterations=3)  # remove noise\n",
        "    image_mask=image\n",
        "    image_mask1=image\n",
        "    image_mask1[image== 1] = 2\n",
        "    image_mask1[image== 0]=1\n",
        "    image_mask1[image== 2]=0\n",
        "    bit_and_otsu=cv2.bitwise_and(image_mask1, thresh)\n",
        "    plt.imshow(bit_and_otsu)\n",
        "    #print(bit_and)\n",
        "\n",
        "\n",
        "    #Morphology\n",
        "    thresh=bit_and_otsu\n",
        "    kernel = np.ones((2, 2), np.uint8)\n",
        "    opening = cv2.morphologyEx(thresh, cv2.MORPH_OPEN, kernel, iterations=2)\n",
        "  \n",
        "\n",
        "    sure_bg = cv2.dilate(opening, kernel, iterations=4)\n",
        "    \n",
        "    ret, image_background = cv2.threshold(sure_bg, 1, 128,\n",
        "                               cv2.THRESH_BINARY)\n",
        " \n",
        "    sure_fg=opening\n",
        "    sure_fg = np.uint8(sure_fg)\n",
        "    #unknown = cv2.subtract(sure_bg, sure_fg)\n",
        "    unknown = cv2.add(image_background, sure_fg)\n",
        "\n",
        "    # Marker labelling\n",
        "    #m=sure_fg\n",
        "    #m[sure_fg==1]=2\n",
        "    #m[sure_fg==0]=1\n",
        "    #m[sure_fg==2]=1\n",
        "    image_marker32= np.int32(unknown)\n",
        "    a=cv2.watershed(img, image_marker32)\n",
        "  \n",
        "    image_marker32= np.int32(a)\n",
        "    m = cv2.convertScaleAbs(image_marker32)  # convert back to uint8\n",
        "    ret, image_mask = cv2.threshold(m, 0, 255, cv2.THRESH_BINARY + cv2.THRESH_OTSU)\n",
        "    output = cv2.bitwise_and(img, img, mask=image_mask)\n",
        "    #output_1=output\n",
        "    #output_1[output==0]=255\n",
        "    #plt.imshow(output_1)\n",
        "    #plt.title(\"output\")\n",
        "    #plt.show()\n",
        "    #f = open(\"out.json\", \"w\")\n",
        "    #f.write(json.dumps(output.tolist(), indent=4))\n",
        "    #f.close()\n",
        "    #plt.hist(output.ravel(), bins=256, range=(0.0, 1.0), fc='k', ec='k')\n",
        "    #plt.show()\n",
        "\n",
        "\n",
        "    return output"
      ]
    },
    {
      "cell_type": "markdown",
      "metadata": {
        "id": "TU9XtlFHcnWP"
      },
      "source": [
        "#making Pickle/  Training Data"
      ]
    },
    {
      "cell_type": "code",
      "execution_count": null,
      "metadata": {
        "colab": {
          "base_uri": "https://localhost:8080/"
        },
        "id": "cAo0YzZAcpQp",
        "outputId": "f7cba3bf-c0f5-4692-9661-6eee8c4ef019"
      },
      "outputs": [
        {
          "name": "stdout",
          "output_type": "stream",
          "text": [
            "2\n",
            "14\n",
            "16\n",
            "2\n",
            "1\n"
          ]
        }
      ],
      "source": [
        "#Directory=\"/content/drive/MyDrive/Colab Notebooks/Sign Language recognition/Dataset/JapanseWord/Five_sign_word\"\n",
        "Directory=\"/content/drive/MyDrive/Colab Notebooks/Sign Language recognition/Dataset/JapanseWord/JpswordTrTst/TrainJpw\"\n",
        "Categories=['Call', 'Close', 'Cold', 'Correct', 'Fine', 'Help', 'Home', 'ILoveYou', 'Like', 'Love', 'No', 'Ok', 'Please', 'Single', 'Sit', 'Tall', 'Wash', 'Work', 'Yes', 'You']\n",
        "IMAGE_SIZE=60\n",
        "\n",
        "training_data = []\n",
        "i=0\n",
        "for c in Categories:\n",
        "    folder = os.path.join(Directory,c)\n",
        "    index = Categories.index(c)\n",
        "    \n",
        "    for img in os.listdir(folder):\n",
        "        image= os.path.join(folder,img)\n",
        "        img_arr=cv2.imread(image)\n",
        "        #detector = skinDetector(image)\n",
        "        #img_arr = detector.find_skin()\n",
        "        img_arr=cv2.resize(img_arr,(IMAGE_SIZE,IMAGE_SIZE))\n",
        "        training_data.append([img_arr, index])\n",
        "        #print(i)\n",
        "        i=i+1\n",
        "import random\n",
        "random.shuffle(training_data)\n",
        "for sample in training_data[:5]:\n",
        "    print(sample[1])\n",
        "\n",
        "\n",
        "B38TrX=[]\n",
        "B38Try=[]\n",
        "for features, label in training_data:\n",
        "    B38TrX.append(features)\n",
        "    B38Try.append(label)\n",
        "tswX=np.array(B38TrX)\n",
        "tswy=np.array(B38Try)\n",
        "\n",
        "import pickle\n",
        "pickle_out=open(\"/content/drive/MyDrive/Colab Notebooks/Sign Language recognition/Dataset/JapanseWord/JpswordTrTst/tswX.pickle\", \"wb\")\n",
        "pickle.dump(tswX,pickle_out)\n",
        "pickle_out.close()\n",
        "\n",
        "\n",
        "pickle_out=open(\"/content/drive/MyDrive/Colab Notebooks/Sign Language recognition/Dataset/JapanseWord/JpswordTrTst/tswy.pickle\", \"wb\")\n",
        "pickle.dump(tswy,pickle_out)\n",
        "pickle_out.close()\n"
      ]
    },
    {
      "cell_type": "markdown",
      "metadata": {
        "id": "vIZLqBSyYXD_"
      },
      "source": [
        "#Training Data with Augmentation"
      ]
    },
    {
      "cell_type": "code",
      "execution_count": null,
      "metadata": {
        "colab": {
          "base_uri": "https://localhost:8080/"
        },
        "id": "q1SD0SVpYc3X",
        "outputId": "a1a928de-85d1-41c9-fd3e-60a593b18e39"
      },
      "outputs": [
        {
          "name": "stdout",
          "output_type": "stream",
          "text": [
            "15\n",
            "0\n",
            "3\n",
            "1\n",
            "16\n"
          ]
        }
      ],
      "source": [
        "from numpy import expand_dims\n",
        "#Directory=\"/content/drive/MyDrive/Colab Notebooks/Sign Language recognition/Dataset/JapanseWord/Five_sign_word\"\n",
        "Directory=\"/content/drive/MyDrive/Colab Notebooks/Sign Language recognition/Dataset/JapanseWord/JpswordTrTst/TrainJpw\"\n",
        "Categories=['Call', 'Close', 'Cold', 'Correct', 'Fine', 'Help', 'Home', 'ILoveYou', 'Like', 'Love', 'No', 'Ok', 'Please', 'Single', 'Sit', 'Tall', 'Wash', 'Work', 'Yes', 'You']\n",
        "Img_size=60\n",
        "Channel=3\n",
        "\n",
        "training_data = []\n",
        "i=0\n",
        "for c in Categories:\n",
        "    folder = os.path.join(Directory,c)\n",
        "    index = Categories.index(c)\n",
        "    \n",
        "    for img in os.listdir(folder):\n",
        "        image= os.path.join(folder,img)\n",
        "        img_arr=cv2.imread(image)\n",
        "        #detector = skinDetector(image)\n",
        "        #img_arr = detector.find_skin()\n",
        "        img_resized=cv2.resize(img_arr,(Img_size,Img_size))\n",
        "        training_data.append([img_resized, index])\n",
        "        \n",
        "        img_resized= expand_dims(img_resized, 0)\n",
        "        img_resized = expand_dims(img_resized, 3)\n",
        "        #print(img_resized.shape)\n",
        "        img_resized = img_resized.reshape(1, Img_size, Img_size, Channel)\n",
        "\n",
        "        datagenrot = ImageDataGenerator(rotation_range=39)\n",
        "        igr = datagenrot.flow(img_resized, batch_size=1)\n",
        "\n",
        "\n",
        "\n",
        "        datagenscal = ImageDataGenerator(zoom_range = .50)\n",
        "        igs = datagenscal.flow(img_resized, batch_size=1)\n",
        "\n",
        "        datagentrans = ImageDataGenerator(shear_range=-0.8)\n",
        "        igt = datagentrans.flow(img_resized, batch_size=1)\n",
        "\n",
        "        #datagentransshift = ImageDataGenerator(height_shift_range=0.2)\n",
        "        datagentransshift = ImageDataGenerator(width_shift_range=-0.3)\n",
        "        igtshift = datagentransshift.flow(img_resized, batch_size=1)\n",
        "        for i in range(3):\n",
        "            batch1 = igr.next()\n",
        "            Images = batch1[0].astype('uint8')\n",
        "            Images=Images.reshape(Img_size, Img_size, Channel)\n",
        "            training_data.append([Images, index])\n",
        "\n",
        "\n",
        "            batch3 = igs.next()\n",
        "            Images = batch3[0].astype('uint8')\n",
        "            Images = Images.reshape(Img_size, Img_size, Channel)\n",
        "            training_data.append([Images, index])\n",
        "\n",
        "            #plt.imshow(Images)\n",
        "            #plt.show()\n",
        "\n",
        "            batch2 = igt.next()\n",
        "            Images = batch2[0].astype('uint8')\n",
        "            Images = Images.reshape(Img_size, Img_size, Channel)\n",
        "            training_data.append([Images, index])\n",
        "\n",
        "            # plt.imshow(Images)\n",
        "            #plt.show()\n",
        "            #break\n",
        "            batch4 = igtshift.next()\n",
        "            Images = batch4[0].astype('uint8')\n",
        "            Images = Images.reshape(Img_size, Img_size, Channel)\n",
        "            training_data.append([Images, index])\n",
        "\n",
        "         \n",
        "\n",
        "        #print(i)\n",
        "        i=i+1\n",
        "\n",
        "\n",
        "import random\n",
        "random.shuffle(training_data)\n",
        "for sample in training_data[:5]:\n",
        "    print(sample[1])\n",
        "\n",
        "\n",
        "B38TrX=[]\n",
        "B38Try=[]\n",
        "for features, label in training_data:\n",
        "    B38TrX.append(features)\n",
        "    B38Try.append(label)\n",
        "tswX_aug=np.array(B38TrX)\n",
        "tswy_aug=np.array(B38Try)\n",
        "\n",
        "import pickle\n",
        "pickle_out=open(\"/content/drive/MyDrive/Colab Notebooks/Sign Language recognition/Dataset/JapanseWord/JpswordTrTst/tswX_aug.pickle\", \"wb\")\n",
        "pickle.dump(tswX_aug,pickle_out)\n",
        "pickle_out.close()\n",
        "\n",
        "\n",
        "pickle_out=open(\"/content/drive/MyDrive/Colab Notebooks/Sign Language recognition/Dataset/JapanseWord/JpswordTrTst/tswy_aug.pickle\", \"wb\")\n",
        "pickle.dump(tswy_aug,pickle_out)\n",
        "pickle_out.close()\n"
      ]
    },
    {
      "cell_type": "markdown",
      "metadata": {
        "id": "Jt-sc92oDes3"
      },
      "source": [
        "#making Pickle/ Test Data"
      ]
    },
    {
      "cell_type": "code",
      "execution_count": null,
      "metadata": {
        "colab": {
          "base_uri": "https://localhost:8080/"
        },
        "id": "flT5A7wNDiXm",
        "outputId": "315e82a9-78d6-490c-d7a3-42aec596a62a"
      },
      "outputs": [
        {
          "name": "stdout",
          "output_type": "stream",
          "text": [
            "6\n",
            "12\n",
            "19\n",
            "3\n",
            "17\n"
          ]
        }
      ],
      "source": [
        "Directory=\"/content/drive/MyDrive/Colab Notebooks/Sign Language recognition/Dataset/JapanseWord/JpswordTrTst/TestJpw\"\n",
        "#Directory=\"/content/drive/MyDrive/Colab Notebooks/Sign Language recognition/Dataset/JapanseWord/Five_sign_word_Test\"\n",
        "Categories=['Call', 'Close', 'Cold', 'Correct', 'Fine', 'Help', 'Home', 'ILoveYou', 'Like', 'Love', 'No', 'Ok', 'Please', 'Single', 'Sit', 'Tall', 'Wash', 'Work', 'Yes', 'You']\n",
        "IMAGE_SIZE=60\n",
        "\n",
        "training_data = []\n",
        "i=0\n",
        "for c in Categories:\n",
        "    folder = os.path.join(Directory,c)\n",
        "    index = Categories.index(c)\n",
        "    \n",
        "    for img in os.listdir(folder):\n",
        "        image= os.path.join(folder,img)\n",
        "        img_arr=cv2.imread(image)\n",
        "        #detector = skinDetector(image)\n",
        "        #img_arr = detector.find_skin()\n",
        "        img_arr=cv2.resize(img_arr,(IMAGE_SIZE,IMAGE_SIZE))\n",
        "        training_data.append([img_arr, index])\n",
        "        #print(i)\n",
        "        i=i+1\n",
        "import random\n",
        "random.shuffle(training_data)\n",
        "for sample in training_data[:5]:\n",
        "    print(sample[1])\n",
        "\n",
        "\n",
        "B38TrX=[]\n",
        "B38Try=[]\n",
        "for features, label in training_data:\n",
        "    B38TrX.append(features)\n",
        "    B38Try.append(label)\n",
        "tswXTest=np.array(B38TrX)\n",
        "tswyTest=np.array(B38Try)\n",
        "\n",
        "import pickle\n",
        "pickle_out=open(\"/content/drive/MyDrive/Colab Notebooks/Sign Language recognition/Dataset/JapanseWord/JpswordTrTst/tswXTest.pickle\", \"wb\")\n",
        "pickle.dump(tswXTest,pickle_out)\n",
        "pickle_out.close()\n",
        "\n",
        "\n",
        "pickle_out=open(\"/content/drive/MyDrive/Colab Notebooks/Sign Language recognition/Dataset/JapanseWord/JpswordTrTst/tswyTest.pickle\", \"wb\")\n",
        "pickle.dump(tswyTest,pickle_out)\n",
        "pickle_out.close()\n"
      ]
    },
    {
      "cell_type": "markdown",
      "metadata": {
        "id": "v6UXf3N9a9Ft"
      },
      "source": [
        "#Test_Augmented"
      ]
    },
    {
      "cell_type": "code",
      "execution_count": null,
      "metadata": {
        "colab": {
          "base_uri": "https://localhost:8080/"
        },
        "id": "rzMu9l7da7Wa",
        "outputId": "4a2738e0-35ee-486f-bd21-60c32d846256"
      },
      "outputs": [
        {
          "name": "stdout",
          "output_type": "stream",
          "text": [
            "0\n",
            "14\n",
            "16\n",
            "9\n",
            "13\n"
          ]
        }
      ],
      "source": [
        "from numpy import expand_dims\n",
        "Directory=\"/content/drive/MyDrive/Colab Notebooks/Sign Language recognition/Dataset/JapanseWord/JpswordTrTst/TestJpw\"\n",
        "#Directory=\"/content/drive/MyDrive/Colab Notebooks/Sign Language recognition/Dataset/JapanseWord/Five_sign_word_Test\"\n",
        "Categories=['Call', 'Close', 'Cold', 'Correct', 'Fine', 'Help', 'Home', 'ILoveYou', 'Like', 'Love', 'No', 'Ok', 'Please', 'Single', 'Sit', 'Tall', 'Wash', 'Work', 'Yes', 'You']\n",
        "Img_size=60\n",
        "\n",
        "training_data = []\n",
        "i=0\n",
        "for c in Categories:\n",
        "    folder = os.path.join(Directory,c)\n",
        "    index = Categories.index(c)\n",
        "    \n",
        "    for img in os.listdir(folder):\n",
        "        image= os.path.join(folder,img)\n",
        "        img_arr=cv2.imread(image)\n",
        "        #detector = skinDetector(image)\n",
        "        #img_arr = detector.find_skin()\n",
        "        img_resized=cv2.resize(img_arr,(Img_size,Img_size))\n",
        "        training_data.append([img_resized, index])\n",
        "        \n",
        "        img_resized= expand_dims(img_resized, 0)\n",
        "        img_resized = expand_dims(img_resized, 3)\n",
        "        #print(img_resized.shape)\n",
        "        img_resized = img_resized.reshape(1, Img_size, Img_size, Channel)\n",
        "\n",
        "        datagenrot = ImageDataGenerator(rotation_range=39)\n",
        "        igr = datagenrot.flow(img_resized, batch_size=1)\n",
        "\n",
        "\n",
        "\n",
        "        datagenscal = ImageDataGenerator(zoom_range = .50)\n",
        "        igs = datagenscal.flow(img_resized, batch_size=1)\n",
        "\n",
        "        datagentrans = ImageDataGenerator(height_shift_range=0.2)\n",
        "        igt = datagentrans.flow(img_resized, batch_size=1)\n",
        "\n",
        "        #datagentransshift = ImageDataGenerator(height_shift_range=0.2)\n",
        "        datagentransshift = ImageDataGenerator(width_shift_range=-0.3)\n",
        "        igtshift = datagentransshift.flow(img_resized, batch_size=1)\n",
        "        for i in range(3):\n",
        "            batch1 = igr.next()\n",
        "            Images = batch1[0].astype('uint8')\n",
        "            Images=Images.reshape(Img_size, Img_size, Channel)\n",
        "            training_data.append([Images, index])\n",
        "\n",
        "\n",
        "            batch3 = igs.next()\n",
        "            Images = batch3[0].astype('uint8')\n",
        "            Images = Images.reshape(Img_size, Img_size, Channel)\n",
        "            training_data.append([Images, index])\n",
        "\n",
        "            #plt.imshow(Images)\n",
        "            #plt.show()\n",
        "\n",
        "            batch2 = igt.next()\n",
        "            Images = batch2[0].astype('uint8')\n",
        "            Images = Images.reshape(Img_size, Img_size, Channel)\n",
        "            training_data.append([Images, index])\n",
        "\n",
        "            # plt.imshow(Images)\n",
        "            #plt.show()\n",
        "            #break\n",
        "            batch4 = igtshift.next()\n",
        "            Images = batch4[0].astype('uint8')\n",
        "            Images = Images.reshape(Img_size, Img_size, Channel)\n",
        "            training_data.append([Images, index])\n",
        "\n",
        "         \n",
        "\n",
        "        #print(i)\n",
        "        i=i+1\n",
        "\n",
        "\n",
        "import random\n",
        "random.shuffle(training_data)\n",
        "for sample in training_data[:5]:\n",
        "    print(sample[1])\n",
        "\n",
        "\n",
        "B38TrX=[]\n",
        "B38Try=[]\n",
        "for features, label in training_data:\n",
        "    B38TrX.append(features)\n",
        "    B38Try.append(label)\n",
        "tswX_aug_Test=np.array(B38TrX)\n",
        "tswy_aug_Test=np.array(B38Try)\n",
        "\n",
        "import pickle\n",
        "pickle_out=open(\"/content/drive/MyDrive/Colab Notebooks/Sign Language recognition/Dataset/JapanseWord/JpswordTrTst/tswX_aug_Test.pickle\", \"wb\")\n",
        "pickle.dump(tswX_aug_Test,pickle_out)\n",
        "pickle_out.close()\n",
        "\n",
        "\n",
        "pickle_out=open(\"/content/drive/MyDrive/Colab Notebooks/Sign Language recognition/Dataset/JapanseWord/JpswordTrTst/tswy_aug_Test.pickle\", \"wb\")\n",
        "pickle.dump(tswy_aug_Test,pickle_out)\n",
        "pickle_out.close()\n"
      ]
    },
    {
      "cell_type": "markdown",
      "metadata": {
        "id": "Wjyjm60fDd9u"
      },
      "source": []
    },
    {
      "cell_type": "markdown",
      "metadata": {
        "id": "PUAfgrw4n1n6"
      },
      "source": [
        "#non Augment"
      ]
    },
    {
      "cell_type": "code",
      "execution_count": null,
      "metadata": {
        "colab": {
          "base_uri": "https://localhost:8080/",
          "height": 244
        },
        "id": "TAVplo7MnpCT",
        "outputId": "da0c2d1d-a8c8-4122-d2ae-0ec3015dbc4d"
      },
      "outputs": [
        {
          "output_type": "error",
          "ename": "NameError",
          "evalue": "ignored",
          "traceback": [
            "\u001b[0;31m---------------------------------------------------------------------------\u001b[0m",
            "\u001b[0;31mNameError\u001b[0m                                 Traceback (most recent call last)",
            "\u001b[0;32m<ipython-input-3-8adab2022870>\u001b[0m in \u001b[0;36m<module>\u001b[0;34m()\u001b[0m\n\u001b[1;32m     12\u001b[0m \u001b[0mY_test\u001b[0m\u001b[0;34m=\u001b[0m\u001b[0mpickle\u001b[0m\u001b[0;34m.\u001b[0m\u001b[0mload\u001b[0m\u001b[0;34m(\u001b[0m\u001b[0mopen\u001b[0m\u001b[0;34m(\u001b[0m\u001b[0mos\u001b[0m\u001b[0;34m.\u001b[0m\u001b[0mpath\u001b[0m\u001b[0;34m.\u001b[0m\u001b[0mjoin\u001b[0m\u001b[0;34m(\u001b[0m\u001b[0mpath\u001b[0m\u001b[0;34m,\u001b[0m\u001b[0;34m\"tswyTest.pickle\"\u001b[0m\u001b[0;34m)\u001b[0m\u001b[0;34m,\u001b[0m\u001b[0;34m\"rb\"\u001b[0m\u001b[0;34m)\u001b[0m\u001b[0;34m)\u001b[0m\u001b[0;34m\u001b[0m\u001b[0;34m\u001b[0m\u001b[0m\n\u001b[1;32m     13\u001b[0m \u001b[0;34m\u001b[0m\u001b[0m\n\u001b[0;32m---> 14\u001b[0;31m \u001b[0mprint\u001b[0m\u001b[0;34m(\u001b[0m\u001b[0mX_train\u001b[0m\u001b[0;34m.\u001b[0m\u001b[0mshape\u001b[0m\u001b[0;34m)\u001b[0m\u001b[0;34m\u001b[0m\u001b[0;34m\u001b[0m\u001b[0m\n\u001b[0m\u001b[1;32m     15\u001b[0m \u001b[0mprint\u001b[0m\u001b[0;34m(\u001b[0m\u001b[0mY_train\u001b[0m\u001b[0;34m.\u001b[0m\u001b[0mshape\u001b[0m\u001b[0;34m)\u001b[0m\u001b[0;34m\u001b[0m\u001b[0;34m\u001b[0m\u001b[0m\n\u001b[1;32m     16\u001b[0m \u001b[0;34m\u001b[0m\u001b[0m\n",
            "\u001b[0;31mNameError\u001b[0m: name 'X_train' is not defined"
          ]
        }
      ],
      "source": [
        "from keras.utils import np_utils\n",
        "import pickle\n",
        "import os\n",
        "\n",
        "path=\"/content/drive/MyDrive/Colab Notebooks/Sign Language recognition/Dataset/JapanseWord/JpswordTrTst\"\n",
        "\n",
        "#X_train=pickle.load(open(os.path.join(path,\"tswX.pickle\"),\"rb\"))\n",
        "#Y_train=pickle.load(open(os.path.join(path,\"tswy.pickle\"),\"rb\"))\n",
        "  \n",
        "\n",
        "X_test=pickle.load(open(os.path.join(path,\"tswXTest.pickle\"),\"rb\"))\n",
        "Y_test=pickle.load(open(os.path.join(path,\"tswyTest.pickle\"),\"rb\"))\n",
        "\n",
        "print(X_train.shape)\n",
        "print(Y_train.shape)\n",
        "\n",
        "print(X_test.shape)\n",
        "print(Y_test.shape)\n"
      ]
    },
    {
      "cell_type": "markdown",
      "metadata": {
        "id": "uxJbI2Y_n4LV"
      },
      "source": [
        "#augment"
      ]
    },
    {
      "cell_type": "code",
      "execution_count": null,
      "metadata": {
        "colab": {
          "base_uri": "https://localhost:8080/"
        },
        "id": "j4L5bd-eoS9h",
        "outputId": "50544d13-58ab-4cab-e0c2-9224591d634e"
      },
      "outputs": [
        {
          "output_type": "stream",
          "name": "stdout",
          "text": [
            "(200876, 60, 60, 3)\n",
            "(200876,)\n",
            "(3794, 60, 60, 3)\n",
            "(3794,)\n"
          ]
        }
      ],
      "source": [
        "from keras.utils import np_utils\n",
        "import pickle\n",
        "import os\n",
        "\n",
        "path=\"/content/drive/MyDrive/Colab Notebooks/Sign Language recognition/Dataset/JapanseWord/JpswordTrTst\"\n",
        "\n",
        "X_train=pickle.load(open(os.path.join(path,\"tswX_aug.pickle\"),\"rb\"))\n",
        "Y_train=pickle.load(open(os.path.join(path,\"tswy_aug.pickle\"),\"rb\"))\n",
        " \n",
        "#X_test=pickle.load(open(os.path.join(path,\"tswX_aug_Test.pickle\"),\"rb\"))\n",
        "#Y_test=pickle.load(open(os.path.join(path,\"tswy_aug_Test.pickle\"),\"rb\"))\n",
        "\n",
        "\n",
        "\n",
        "print(X_train.shape)\n",
        "print(Y_train.shape)\n",
        "\n",
        "print(X_test.shape)\n",
        "print(Y_test.shape)"
      ]
    },
    {
      "cell_type": "markdown",
      "metadata": {
        "id": "pHufJmhe__Nk"
      },
      "source": [
        "##loading data for DL"
      ]
    },
    {
      "cell_type": "code",
      "execution_count": null,
      "metadata": {
        "colab": {
          "base_uri": "https://localhost:8080/"
        },
        "id": "McviXvua1Nyv",
        "outputId": "659b9edc-8f8e-46a4-c0bb-4e6fb79d9ee2"
      },
      "outputs": [
        {
          "output_type": "stream",
          "name": "stdout",
          "text": [
            "x train shape (200876, 60, 60, 3)\n",
            "y train shape (200876,)\n",
            "x test shape (3794, 60, 60, 3)\n",
            "y test shape (3794,)\n",
            "Shape before one-hot encoding:  (200876,)\n",
            "Shape after one-hot encoding: for y train (200876, 20)\n",
            "Shape after one-hot encoding: for y test (3794, 20)\n"
          ]
        }
      ],
      "source": [
        "\n",
        "\n",
        "from sklearn. model_selection import train_test_split\n",
        "#x_train, x_test,y_train,y_test=train_test_split(X,y,test_size=0.3, random_state=109)\n",
        "\"\"\"**Dimensionality reduction**\"\"\"\n",
        "x_train, x_test,y_train,y_test=X_train, X_test,Y_train,Y_test\n",
        "\n",
        "x_train=x_train.reshape(-1,60,60,3)\n",
        "print('x train shape', x_train.shape)\n",
        "print('y train shape',y_train.shape)\n",
        "x_test=x_test.reshape(-1,60,60,3)\n",
        "print('x test shape',x_test.shape)\n",
        "print('y test shape',y_test.shape)\n",
        "\n",
        "\n",
        "y_train_ml=y_train\n",
        "y_test_ml=y_test\n",
        "# Flattening the images from the 28x28 pixels to 1D 787 pixels\n",
        "#x_train = x_train.reshape(-1, 1600)\n",
        "#x_test = x_test.reshape(-1, 1600)\n",
        "x_train = x_train.astype('float32')\n",
        "x_test = x_test.astype('float32')\n",
        "\n",
        "# normalizing the data to help with the training\n",
        "x_train /= 255\n",
        "x_test /= 255\n",
        "\n",
        "# one-hot encoding using keras' numpy-related utilities\n",
        "n_classes = 20\n",
        "print(\"Shape before one-hot encoding: \", y_train.shape)\n",
        "y_train = np_utils.to_categorical(y_train, n_classes)\n",
        "y_test = np_utils.to_categorical(y_test, n_classes)\n",
        "print(\"Shape after one-hot encoding: for y train\", y_train.shape)\n",
        "print(\"Shape after one-hot encoding: for y test\", y_test.shape)"
      ]
    },
    {
      "cell_type": "markdown",
      "metadata": {
        "id": "XbA0YqNu1iXy"
      },
      "source": [
        "##\n",
        "    Flatten the input image dimensions to 1D (width pixels x height pixels)\n",
        "    Normalize the image pixel values (divide by 255)\n",
        "    One-Hot Encode the categorical column\n",
        "    Build a model architecture (Sequential) with Dense layers\n",
        "    Train the model and make predictions\n"
      ]
    },
    {
      "cell_type": "markdown",
      "metadata": {
        "id": "fuLLZ6MP9Eq1"
      },
      "source": [
        "##ANN\n"
      ]
    },
    {
      "cell_type": "code",
      "execution_count": null,
      "metadata": {
        "id": "allCqwea9HFA"
      },
      "outputs": [],
      "source": [
        "def neural_net(x_train, y_train, x_test, y_test):\n",
        "    print(\"neural network running....................\")\n",
        "    x_train = x_train.reshape(-1, 24300)\n",
        "    x_test = x_test.reshape(-1, 24300)\n",
        "    model=Sequential()\n",
        "    #hidden layer\n",
        "    model.add(Dense(100,input_shape=(24300,),activation='relu'))\n",
        "    #output layer\n",
        "    model.add(Dense(20, activation='softmax'))\n",
        "    model.summary()\n",
        "    model.compile(loss='categorical_crossentropy', metrics=['accuracy'], optimizer='adam')\n",
        "    \n",
        "\n",
        "    # training the model for 10 epochs\n",
        "    mf=model.fit(x_train, y_train, batch_size=128, epochs=100, validation_data=(x_test, y_test))\n",
        "    return mf"
      ]
    },
    {
      "cell_type": "markdown",
      "metadata": {
        "id": "zT5ftfvH_H4J"
      },
      "source": [
        "###run ANN"
      ]
    },
    {
      "cell_type": "code",
      "execution_count": null,
      "metadata": {
        "colab": {
          "base_uri": "https://localhost:8080/"
        },
        "id": "EMRapHBh82m6",
        "outputId": "f7bdcc09-1ff1-4208-a38d-f0de6dc6de34"
      },
      "outputs": [
        {
          "name": "stdout",
          "output_type": "stream",
          "text": [
            "neural network running....................\n",
            "Model: \"sequential_6\"\n",
            "_________________________________________________________________\n",
            "Layer (type)                 Output Shape              Param #   \n",
            "=================================================================\n",
            "dense_12 (Dense)             (None, 100)               2430100   \n",
            "_________________________________________________________________\n",
            "dense_13 (Dense)             (None, 20)                2020      \n",
            "=================================================================\n",
            "Total params: 2,432,120\n",
            "Trainable params: 2,432,120\n",
            "Non-trainable params: 0\n",
            "_________________________________________________________________\n",
            "Epoch 1/100\n",
            "105/105 [==============================] - 2s 12ms/step - loss: 3.4310 - accuracy: 0.0936 - val_loss: 2.6655 - val_accuracy: 0.1426\n",
            "Epoch 2/100\n",
            "105/105 [==============================] - 1s 9ms/step - loss: 2.5778 - accuracy: 0.1589 - val_loss: 2.4738 - val_accuracy: 0.2117\n",
            "Epoch 3/100\n",
            "105/105 [==============================] - 1s 9ms/step - loss: 2.4084 - accuracy: 0.2286 - val_loss: 2.3243 - val_accuracy: 0.3022\n",
            "Epoch 4/100\n",
            "105/105 [==============================] - 1s 9ms/step - loss: 2.2617 - accuracy: 0.2905 - val_loss: 2.1975 - val_accuracy: 0.3059\n",
            "Epoch 5/100\n",
            "105/105 [==============================] - 1s 9ms/step - loss: 2.1455 - accuracy: 0.3038 - val_loss: 2.1721 - val_accuracy: 0.2493\n",
            "Epoch 6/100\n",
            "105/105 [==============================] - 1s 9ms/step - loss: 2.0365 - accuracy: 0.3280 - val_loss: 1.9897 - val_accuracy: 0.3286\n",
            "Epoch 7/100\n",
            "105/105 [==============================] - 1s 9ms/step - loss: 1.9623 - accuracy: 0.3332 - val_loss: 2.0135 - val_accuracy: 0.2740\n",
            "Epoch 8/100\n",
            "105/105 [==============================] - 1s 9ms/step - loss: 1.8938 - accuracy: 0.3587 - val_loss: 1.8566 - val_accuracy: 0.3953\n",
            "Epoch 9/100\n",
            "105/105 [==============================] - 1s 9ms/step - loss: 1.8273 - accuracy: 0.3780 - val_loss: 1.8037 - val_accuracy: 0.4023\n",
            "Epoch 10/100\n",
            "105/105 [==============================] - 1s 9ms/step - loss: 1.7742 - accuracy: 0.3897 - val_loss: 1.7565 - val_accuracy: 0.3967\n",
            "Epoch 11/100\n",
            "105/105 [==============================] - 1s 9ms/step - loss: 1.7298 - accuracy: 0.4100 - val_loss: 1.7109 - val_accuracy: 0.3955\n",
            "Epoch 12/100\n",
            "105/105 [==============================] - 1s 9ms/step - loss: 1.6898 - accuracy: 0.4202 - val_loss: 1.7134 - val_accuracy: 0.3622\n",
            "Epoch 13/100\n",
            "105/105 [==============================] - 1s 8ms/step - loss: 1.6583 - accuracy: 0.4195 - val_loss: 1.6400 - val_accuracy: 0.4390\n",
            "Epoch 14/100\n",
            "105/105 [==============================] - 1s 9ms/step - loss: 1.6213 - accuracy: 0.4377 - val_loss: 1.6077 - val_accuracy: 0.4402\n",
            "Epoch 15/100\n",
            "105/105 [==============================] - 1s 8ms/step - loss: 1.5868 - accuracy: 0.4480 - val_loss: 1.6055 - val_accuracy: 0.4040\n",
            "Epoch 16/100\n",
            "105/105 [==============================] - 1s 9ms/step - loss: 1.5605 - accuracy: 0.4600 - val_loss: 1.5341 - val_accuracy: 0.5144\n",
            "Epoch 17/100\n",
            "105/105 [==============================] - 1s 9ms/step - loss: 1.5332 - accuracy: 0.4673 - val_loss: 1.5095 - val_accuracy: 0.4689\n",
            "Epoch 18/100\n",
            "105/105 [==============================] - 1s 9ms/step - loss: 1.4992 - accuracy: 0.4897 - val_loss: 1.8834 - val_accuracy: 0.2299\n",
            "Epoch 19/100\n",
            "105/105 [==============================] - 1s 8ms/step - loss: 1.4719 - accuracy: 0.4941 - val_loss: 1.4524 - val_accuracy: 0.5141\n",
            "Epoch 20/100\n",
            "105/105 [==============================] - 1s 8ms/step - loss: 1.4399 - accuracy: 0.5169 - val_loss: 1.5196 - val_accuracy: 0.4210\n",
            "Epoch 21/100\n",
            "105/105 [==============================] - 1s 9ms/step - loss: 1.4304 - accuracy: 0.5083 - val_loss: 1.4133 - val_accuracy: 0.5228\n",
            "Epoch 22/100\n",
            "105/105 [==============================] - 1s 8ms/step - loss: 1.4051 - accuracy: 0.5182 - val_loss: 1.3898 - val_accuracy: 0.5365\n",
            "Epoch 23/100\n",
            "105/105 [==============================] - 1s 8ms/step - loss: 1.3729 - accuracy: 0.5336 - val_loss: 1.3602 - val_accuracy: 0.5440\n",
            "Epoch 24/100\n",
            "105/105 [==============================] - 1s 8ms/step - loss: 1.3467 - accuracy: 0.5452 - val_loss: 1.3500 - val_accuracy: 0.5452\n",
            "Epoch 25/100\n",
            "105/105 [==============================] - 1s 8ms/step - loss: 1.3450 - accuracy: 0.5357 - val_loss: 1.3559 - val_accuracy: 0.5171\n",
            "Epoch 26/100\n",
            "105/105 [==============================] - 1s 8ms/step - loss: 1.3136 - accuracy: 0.5591 - val_loss: 1.3061 - val_accuracy: 0.5605\n",
            "Epoch 27/100\n",
            "105/105 [==============================] - 1s 9ms/step - loss: 1.2883 - accuracy: 0.5678 - val_loss: 1.3267 - val_accuracy: 0.5503\n",
            "Epoch 28/100\n",
            "105/105 [==============================] - 1s 9ms/step - loss: 1.2807 - accuracy: 0.5654 - val_loss: 1.2942 - val_accuracy: 0.5676\n",
            "Epoch 29/100\n",
            "105/105 [==============================] - 1s 9ms/step - loss: 1.2748 - accuracy: 0.5652 - val_loss: 1.2576 - val_accuracy: 0.5848\n",
            "Epoch 30/100\n",
            "105/105 [==============================] - 1s 8ms/step - loss: 1.2381 - accuracy: 0.5889 - val_loss: 1.2414 - val_accuracy: 0.5487\n",
            "Epoch 31/100\n",
            "105/105 [==============================] - 1s 8ms/step - loss: 1.2291 - accuracy: 0.5920 - val_loss: 1.2317 - val_accuracy: 0.5732\n",
            "Epoch 32/100\n",
            "105/105 [==============================] - 1s 9ms/step - loss: 1.2320 - accuracy: 0.5819 - val_loss: 1.2185 - val_accuracy: 0.5753\n",
            "Epoch 33/100\n",
            "105/105 [==============================] - 1s 8ms/step - loss: 1.2056 - accuracy: 0.5944 - val_loss: 1.2098 - val_accuracy: 0.6096\n",
            "Epoch 34/100\n",
            "105/105 [==============================] - 1s 9ms/step - loss: 1.1845 - accuracy: 0.6104 - val_loss: 1.1900 - val_accuracy: 0.6112\n",
            "Epoch 35/100\n",
            "105/105 [==============================] - 1s 9ms/step - loss: 1.1791 - accuracy: 0.6098 - val_loss: 1.1839 - val_accuracy: 0.6028\n",
            "Epoch 36/100\n",
            "105/105 [==============================] - 1s 8ms/step - loss: 1.1593 - accuracy: 0.6161 - val_loss: 1.1776 - val_accuracy: 0.6121\n",
            "Epoch 37/100\n",
            "105/105 [==============================] - 1s 9ms/step - loss: 1.1623 - accuracy: 0.6127 - val_loss: 1.1589 - val_accuracy: 0.6033\n",
            "Epoch 38/100\n",
            "105/105 [==============================] - 1s 9ms/step - loss: 1.1490 - accuracy: 0.6146 - val_loss: 1.1564 - val_accuracy: 0.5965\n",
            "Epoch 39/100\n",
            "105/105 [==============================] - 1s 9ms/step - loss: 1.1285 - accuracy: 0.6275 - val_loss: 1.1296 - val_accuracy: 0.6210\n",
            "Epoch 40/100\n",
            "105/105 [==============================] - 1s 9ms/step - loss: 1.1194 - accuracy: 0.6328 - val_loss: 1.1486 - val_accuracy: 0.6096\n",
            "Epoch 41/100\n",
            "105/105 [==============================] - 1s 9ms/step - loss: 1.1067 - accuracy: 0.6363 - val_loss: 1.1144 - val_accuracy: 0.6177\n",
            "Epoch 42/100\n",
            "105/105 [==============================] - 1s 9ms/step - loss: 1.1061 - accuracy: 0.6278 - val_loss: 1.1076 - val_accuracy: 0.6345\n",
            "Epoch 43/100\n",
            "105/105 [==============================] - 1s 8ms/step - loss: 1.0887 - accuracy: 0.6404 - val_loss: 1.1101 - val_accuracy: 0.6164\n",
            "Epoch 44/100\n",
            "105/105 [==============================] - 1s 9ms/step - loss: 1.0874 - accuracy: 0.6369 - val_loss: 1.0936 - val_accuracy: 0.6345\n",
            "Epoch 45/100\n",
            "105/105 [==============================] - 1s 9ms/step - loss: 1.0735 - accuracy: 0.6416 - val_loss: 1.1386 - val_accuracy: 0.5948\n",
            "Epoch 46/100\n",
            "105/105 [==============================] - 1s 9ms/step - loss: 1.0733 - accuracy: 0.6425 - val_loss: 1.0739 - val_accuracy: 0.6388\n",
            "Epoch 47/100\n",
            "105/105 [==============================] - 1s 9ms/step - loss: 1.0619 - accuracy: 0.6443 - val_loss: 1.1237 - val_accuracy: 0.5988\n",
            "Epoch 48/100\n",
            "105/105 [==============================] - 1s 9ms/step - loss: 1.0642 - accuracy: 0.6397 - val_loss: 1.0569 - val_accuracy: 0.6374\n",
            "Epoch 49/100\n",
            "105/105 [==============================] - 1s 9ms/step - loss: 1.0530 - accuracy: 0.6397 - val_loss: 1.0544 - val_accuracy: 0.6394\n",
            "Epoch 50/100\n",
            "105/105 [==============================] - 1s 9ms/step - loss: 1.0497 - accuracy: 0.6455 - val_loss: 1.0597 - val_accuracy: 0.6341\n",
            "Epoch 51/100\n",
            "105/105 [==============================] - 1s 9ms/step - loss: 1.0368 - accuracy: 0.6522 - val_loss: 1.0405 - val_accuracy: 0.6485\n",
            "Epoch 52/100\n",
            "105/105 [==============================] - 1s 9ms/step - loss: 1.0276 - accuracy: 0.6554 - val_loss: 1.0263 - val_accuracy: 0.6567\n",
            "Epoch 53/100\n",
            "105/105 [==============================] - 1s 9ms/step - loss: 1.0268 - accuracy: 0.6537 - val_loss: 1.0240 - val_accuracy: 0.6581\n",
            "Epoch 54/100\n",
            "105/105 [==============================] - 1s 9ms/step - loss: 1.0055 - accuracy: 0.6643 - val_loss: 1.0188 - val_accuracy: 0.6514\n",
            "Epoch 55/100\n",
            "105/105 [==============================] - 1s 9ms/step - loss: 1.0120 - accuracy: 0.6599 - val_loss: 1.0676 - val_accuracy: 0.6313\n",
            "Epoch 56/100\n",
            "105/105 [==============================] - 1s 9ms/step - loss: 1.0171 - accuracy: 0.6575 - val_loss: 1.0216 - val_accuracy: 0.6574\n",
            "Epoch 57/100\n",
            "105/105 [==============================] - 1s 9ms/step - loss: 0.9992 - accuracy: 0.6659 - val_loss: 1.0020 - val_accuracy: 0.6590\n",
            "Epoch 58/100\n",
            "105/105 [==============================] - 1s 9ms/step - loss: 0.9955 - accuracy: 0.6656 - val_loss: 1.0598 - val_accuracy: 0.6380\n",
            "Epoch 59/100\n",
            "105/105 [==============================] - 1s 9ms/step - loss: 1.0100 - accuracy: 0.6551 - val_loss: 0.9886 - val_accuracy: 0.6723\n",
            "Epoch 60/100\n",
            "105/105 [==============================] - 1s 9ms/step - loss: 0.9713 - accuracy: 0.6809 - val_loss: 0.9934 - val_accuracy: 0.6705\n",
            "Epoch 61/100\n",
            "105/105 [==============================] - 1s 9ms/step - loss: 0.9639 - accuracy: 0.6803 - val_loss: 0.9778 - val_accuracy: 0.6705\n",
            "Epoch 62/100\n",
            "105/105 [==============================] - 1s 8ms/step - loss: 0.9817 - accuracy: 0.6722 - val_loss: 0.9782 - val_accuracy: 0.6810\n",
            "Epoch 63/100\n",
            "105/105 [==============================] - 1s 8ms/step - loss: 0.9683 - accuracy: 0.6761 - val_loss: 0.9694 - val_accuracy: 0.6772\n",
            "Epoch 64/100\n",
            "105/105 [==============================] - 1s 8ms/step - loss: 0.9543 - accuracy: 0.6828 - val_loss: 1.0024 - val_accuracy: 0.6626\n",
            "Epoch 65/100\n",
            "105/105 [==============================] - 1s 8ms/step - loss: 0.9443 - accuracy: 0.6876 - val_loss: 0.9881 - val_accuracy: 0.6761\n",
            "Epoch 66/100\n",
            "105/105 [==============================] - 1s 9ms/step - loss: 0.9428 - accuracy: 0.6846 - val_loss: 0.9491 - val_accuracy: 0.6821\n",
            "Epoch 67/100\n",
            "105/105 [==============================] - 1s 8ms/step - loss: 0.9459 - accuracy: 0.6833 - val_loss: 0.9577 - val_accuracy: 0.6875\n",
            "Epoch 68/100\n",
            "105/105 [==============================] - 1s 8ms/step - loss: 0.9417 - accuracy: 0.6848 - val_loss: 0.9715 - val_accuracy: 0.6546\n",
            "Epoch 69/100\n",
            "105/105 [==============================] - 1s 9ms/step - loss: 0.9295 - accuracy: 0.6898 - val_loss: 0.9392 - val_accuracy: 0.6878\n",
            "Epoch 70/100\n",
            "105/105 [==============================] - 1s 9ms/step - loss: 0.9264 - accuracy: 0.6914 - val_loss: 0.9435 - val_accuracy: 0.6789\n",
            "Epoch 71/100\n",
            "105/105 [==============================] - 1s 9ms/step - loss: 0.9200 - accuracy: 0.6939 - val_loss: 0.9841 - val_accuracy: 0.6548\n",
            "Epoch 72/100\n",
            "105/105 [==============================] - 1s 8ms/step - loss: 0.9097 - accuracy: 0.6976 - val_loss: 0.9472 - val_accuracy: 0.6779\n",
            "Epoch 73/100\n",
            "105/105 [==============================] - 1s 9ms/step - loss: 0.9188 - accuracy: 0.6923 - val_loss: 0.9241 - val_accuracy: 0.6934\n",
            "Epoch 74/100\n",
            "105/105 [==============================] - 1s 9ms/step - loss: 0.9086 - accuracy: 0.6955 - val_loss: 0.9191 - val_accuracy: 0.6966\n",
            "Epoch 75/100\n",
            "105/105 [==============================] - 1s 9ms/step - loss: 0.9045 - accuracy: 0.6966 - val_loss: 0.9256 - val_accuracy: 0.6980\n",
            "Epoch 76/100\n",
            "105/105 [==============================] - 1s 9ms/step - loss: 0.9281 - accuracy: 0.6872 - val_loss: 1.0093 - val_accuracy: 0.6261\n",
            "Epoch 77/100\n",
            "105/105 [==============================] - 1s 9ms/step - loss: 0.8940 - accuracy: 0.7007 - val_loss: 0.9201 - val_accuracy: 0.6866\n",
            "Epoch 78/100\n",
            "105/105 [==============================] - 1s 9ms/step - loss: 0.8958 - accuracy: 0.6998 - val_loss: 0.9091 - val_accuracy: 0.6882\n",
            "Epoch 79/100\n",
            "105/105 [==============================] - 1s 9ms/step - loss: 0.8829 - accuracy: 0.7082 - val_loss: 0.9068 - val_accuracy: 0.6971\n",
            "Epoch 80/100\n",
            "105/105 [==============================] - 1s 9ms/step - loss: 0.8820 - accuracy: 0.7086 - val_loss: 0.9603 - val_accuracy: 0.6689\n",
            "Epoch 81/100\n",
            "105/105 [==============================] - 1s 9ms/step - loss: 0.8850 - accuracy: 0.7060 - val_loss: 0.8874 - val_accuracy: 0.7055\n",
            "Epoch 82/100\n",
            "105/105 [==============================] - 1s 9ms/step - loss: 0.8870 - accuracy: 0.7040 - val_loss: 0.8893 - val_accuracy: 0.6999\n",
            "Epoch 83/100\n",
            "105/105 [==============================] - 1s 9ms/step - loss: 0.8806 - accuracy: 0.7064 - val_loss: 0.8931 - val_accuracy: 0.6997\n",
            "Epoch 84/100\n",
            "105/105 [==============================] - 1s 9ms/step - loss: 0.8723 - accuracy: 0.7104 - val_loss: 1.3521 - val_accuracy: 0.5421\n",
            "Epoch 85/100\n",
            "105/105 [==============================] - 1s 9ms/step - loss: 0.9693 - accuracy: 0.6643 - val_loss: 0.8803 - val_accuracy: 0.6994\n",
            "Epoch 86/100\n",
            "105/105 [==============================] - 1s 9ms/step - loss: 0.8690 - accuracy: 0.7114 - val_loss: 0.8778 - val_accuracy: 0.6968\n",
            "Epoch 87/100\n",
            "105/105 [==============================] - 1s 9ms/step - loss: 0.8556 - accuracy: 0.7155 - val_loss: 0.8747 - val_accuracy: 0.7111\n",
            "Epoch 88/100\n",
            "105/105 [==============================] - 1s 8ms/step - loss: 0.8751 - accuracy: 0.7068 - val_loss: 0.9044 - val_accuracy: 0.6948\n",
            "Epoch 89/100\n",
            "105/105 [==============================] - 1s 9ms/step - loss: 0.8512 - accuracy: 0.7184 - val_loss: 0.9084 - val_accuracy: 0.6943\n",
            "Epoch 90/100\n",
            "105/105 [==============================] - 1s 9ms/step - loss: 0.8510 - accuracy: 0.7183 - val_loss: 0.9196 - val_accuracy: 0.6941\n",
            "Epoch 91/100\n",
            "105/105 [==============================] - 1s 9ms/step - loss: 0.8554 - accuracy: 0.7144 - val_loss: 0.8624 - val_accuracy: 0.7095\n",
            "Epoch 92/100\n",
            "105/105 [==============================] - 1s 9ms/step - loss: 0.8478 - accuracy: 0.7163 - val_loss: 0.8664 - val_accuracy: 0.7031\n",
            "Epoch 93/100\n",
            "105/105 [==============================] - 1s 9ms/step - loss: 0.8363 - accuracy: 0.7259 - val_loss: 0.8557 - val_accuracy: 0.7130\n",
            "Epoch 94/100\n",
            "105/105 [==============================] - 1s 9ms/step - loss: 0.8521 - accuracy: 0.7117 - val_loss: 0.9447 - val_accuracy: 0.6752\n",
            "Epoch 95/100\n",
            "105/105 [==============================] - 1s 9ms/step - loss: 0.8358 - accuracy: 0.7193 - val_loss: 0.8485 - val_accuracy: 0.7204\n",
            "Epoch 96/100\n",
            "105/105 [==============================] - 1s 9ms/step - loss: 0.8601 - accuracy: 0.7057 - val_loss: 0.8627 - val_accuracy: 0.6976\n",
            "Epoch 97/100\n",
            "105/105 [==============================] - 1s 8ms/step - loss: 0.8573 - accuracy: 0.7059 - val_loss: 0.8453 - val_accuracy: 0.7178\n",
            "Epoch 98/100\n",
            "105/105 [==============================] - 1s 9ms/step - loss: 0.8248 - accuracy: 0.7234 - val_loss: 0.9740 - val_accuracy: 0.6355\n",
            "Epoch 99/100\n",
            "105/105 [==============================] - 1s 9ms/step - loss: 0.9037 - accuracy: 0.6884 - val_loss: 0.8844 - val_accuracy: 0.7062\n",
            "Epoch 100/100\n",
            "105/105 [==============================] - 1s 9ms/step - loss: 0.8242 - accuracy: 0.7250 - val_loss: 0.8438 - val_accuracy: 0.7111\n"
          ]
        }
      ],
      "source": [
        "\n",
        "success_rate=neural_net(x_train, y_train, x_test, y_test)"
      ]
    },
    {
      "cell_type": "markdown",
      "metadata": {
        "id": "8hmE2D5IptJU"
      },
      "source": [
        "##Confusion Matrix"
      ]
    },
    {
      "cell_type": "markdown",
      "metadata": {
        "id": "SZJ--G8k9l7X"
      },
      "source": [
        "##CNN\n",
        "One major advantage of using CNNs over NNs is that you do not need to flatten the input images to 1D as they are capable of working with image data in 2D. This helps in retaining the “spatial” properties of images."
      ]
    },
    {
      "cell_type": "code",
      "execution_count": null,
      "metadata": {
        "colab": {
          "base_uri": "https://localhost:8080/"
        },
        "id": "I4pojOaz9ohi",
        "outputId": "1c9fd263-da05-4d2f-8ac0-12205266e0ff"
      },
      "outputs": [
        {
          "output_type": "stream",
          "name": "stdout",
          "text": [
            "Requirement already satisfied: tflearn in /usr/local/lib/python3.7/dist-packages (0.5.0)\n",
            "Requirement already satisfied: six in /usr/local/lib/python3.7/dist-packages (from tflearn) (1.15.0)\n",
            "Requirement already satisfied: numpy in /usr/local/lib/python3.7/dist-packages (from tflearn) (1.21.5)\n",
            "Requirement already satisfied: Pillow in /usr/local/lib/python3.7/dist-packages (from tflearn) (7.1.2)\n",
            "WARNING:tensorflow:From /usr/local/lib/python3.7/dist-packages/tensorflow/python/compat/v2_compat.py:107: disable_resource_variables (from tensorflow.python.ops.variable_scope) is deprecated and will be removed in a future version.\n",
            "Instructions for updating:\n",
            "non-resource variables are not supported in the long term\n"
          ]
        }
      ],
      "source": [
        "!pip install tflearn\n",
        "\n",
        "import tflearn\n",
        "from tflearn.layers.conv import conv_2d, max_pool_2d\n",
        "from tflearn.layers.core import input_data, dropout, fully_connected\n",
        "from tflearn.layers.estimator import regression\n",
        "IMG_SIZE = 60\n",
        "LR = 1e-3\n",
        "nb_classes = 20\n",
        "Channel=3\n",
        "\n",
        "def cnn_model(x_train, y_train, x_test, y_test):\n",
        "    # building a linear stack of layers with the sequential model\n",
        "    x_train = x_train.reshape(x_train.shape[0], IMG_SIZE, IMG_SIZE, Channel)\n",
        "    x_test = x_test.reshape(x_test.shape[0], IMG_SIZE, IMG_SIZE, Channel)\n",
        "    x_train = x_train.astype('float32')\n",
        "    x_test = x_test.astype('float32')\n",
        "    print(x_train.shape, x_test.shape)\n",
        "    model = Sequential()\n",
        "    # Adding first convolutional layer, followed by pooling, and dropout\n",
        "    model.add(Conv2D(32, (3, 3), strides=(1,1), padding='valid', activation='relu', input_shape=(IMG_SIZE,IMG_SIZE,Channel)))\n",
        "    model.add(MaxPooling2D(pool_size = (2, 2)))\n",
        "    model.add(Dropout(0.25))\n",
        "    \n",
        "    # Adding second convolutional layer, followed by pooling, and dropout\n",
        "    model.add(Conv2D(32, (3, 3), activation = 'relu'))\n",
        "    model.add(MaxPooling2D(pool_size = (2, 2)))\n",
        "    model.add(Dropout(0.25))\n",
        "\n",
        "    # Adding third convolutional layer, followed by pooling, and dropout\n",
        "    model.add(Conv2D(32,(3,3),activation='relu'))\n",
        "    model.add(MaxPooling2D(pool_size = (2, 2)))\n",
        "    model.add(Dropout(0.25))\n",
        "\n",
        "    # Flattening\n",
        "    model.add(Flatten())\n",
        "             \n",
        "    # hidden layer\n",
        "    model.add(Dense(128, activation='relu'))\n",
        "    # output layer\n",
        "    model.add(Dense(20, activation='softmax'))\n",
        "    model.summary()\n",
        "    #Compiling the sequential model\n",
        "    def recall(y_true, y_pred):\n",
        "        true_positives = K.sum(K.round(K.clip(y_true * y_pred, 0, 1)))\n",
        "        possible_positives = K.sum(K.round(K.clip(y_true, 0, 1)))\n",
        "        recall = true_positives / (possible_positives + K.epsilon())\n",
        "        return recall\n",
        "\n",
        "    def precision(y_true, y_pred): \n",
        "        true_positives = K.sum(K.round(K.clip(y_true * y_pred, 0, 1)))\n",
        "        predicted_positives = K.sum(K.round(K.clip(y_pred, 0, 1)))\n",
        "        precision = true_positives / (predicted_positives + K.epsilon())\n",
        "        return precision\n",
        "    return model\n",
        "    \n",
        "    \"\"\"\n",
        "    history = model.fit(x_train,y_train,batch_size=128, epochs=10,validation_data=(x_test,y_test))\n",
        "    plt.plot(history.history['acc'])\n",
        "    plt.plot(history.history['val_acc'])\n",
        "    plt.title('Model Accuracy')\n",
        "    plt.ylabel('accuracy')\n",
        "    plt.xlabel('epoch')\n",
        "    plt.legend(['Training', 'Validation'])\n",
        "    # Accuracy of the classifier when evaluated based on the test_set\n",
        "    test_loss, test_accuracy = model.evaluate(x_test, y_test)\n",
        "    print(\"Accuracy on test set : {}\".format(test_accuracy))\n",
        "    return test_accuracy\n",
        "    \"\"\"\n",
        "    "
      ]
    },
    {
      "cell_type": "markdown",
      "metadata": {
        "id": "L11Pqftn_Lg1"
      },
      "source": [
        "###run CNN"
      ]
    },
    {
      "cell_type": "code",
      "execution_count": null,
      "metadata": {
        "colab": {
          "base_uri": "https://localhost:8080/"
        },
        "id": "x3TKeD_h_OWI",
        "outputId": "999fc076-2ea8-48da-9d9b-20121764ce87"
      },
      "outputs": [
        {
          "output_type": "stream",
          "name": "stdout",
          "text": [
            "(200876, 60, 60, 3) (3794, 60, 60, 3)\n",
            "Model: \"sequential\"\n",
            "_________________________________________________________________\n",
            " Layer (type)                Output Shape              Param #   \n",
            "=================================================================\n",
            " conv2d (Conv2D)             (None, 58, 58, 32)        896       \n",
            "                                                                 \n",
            " max_pooling2d (MaxPooling2D  (None, 29, 29, 32)       0         \n",
            " )                                                               \n",
            "                                                                 \n",
            " dropout (Dropout)           (None, 29, 29, 32)        0         \n",
            "                                                                 \n",
            " conv2d_1 (Conv2D)           (None, 27, 27, 32)        9248      \n",
            "                                                                 \n",
            " max_pooling2d_1 (MaxPooling  (None, 13, 13, 32)       0         \n",
            " 2D)                                                             \n",
            "                                                                 \n",
            " dropout_1 (Dropout)         (None, 13, 13, 32)        0         \n",
            "                                                                 \n",
            " conv2d_2 (Conv2D)           (None, 11, 11, 32)        9248      \n",
            "                                                                 \n",
            " max_pooling2d_2 (MaxPooling  (None, 5, 5, 32)         0         \n",
            " 2D)                                                             \n",
            "                                                                 \n",
            " dropout_2 (Dropout)         (None, 5, 5, 32)          0         \n",
            "                                                                 \n",
            " flatten (Flatten)           (None, 800)               0         \n",
            "                                                                 \n",
            " dense (Dense)               (None, 128)               102528    \n",
            "                                                                 \n",
            " dense_1 (Dense)             (None, 20)                2580      \n",
            "                                                                 \n",
            "=================================================================\n",
            "Total params: 124,500\n",
            "Trainable params: 124,500\n",
            "Non-trainable params: 0\n",
            "_________________________________________________________________\n",
            "Train on 200876 samples, validate on 3794 samples\n",
            "Epoch 1/30\n",
            "200800/200876 [============================>.] - ETA: 0s - loss: 0.2713 - acc: 0.9150"
          ]
        },
        {
          "output_type": "stream",
          "name": "stderr",
          "text": [
            "/usr/local/lib/python3.7/dist-packages/keras/engine/training_v1.py:2057: UserWarning: `Model.state_updates` will be removed in a future version. This property should not be used in TensorFlow 2.0, as `updates` are applied automatically.\n",
            "  updates = self.state_updates\n"
          ]
        },
        {
          "output_type": "stream",
          "name": "stdout",
          "text": [
            "\b\b\b\b\b\b\b\b\b\b\b\b\b\b\b\b\b\b\b\b\b\b\b\b\b\b\b\b\b\b\b\b\b\b\b\b\b\b\b\b\b\b\b\b\b\b\b\b\b\b\b\b\b\b\b\b\b\b\b\b\b\b\b\b\b\b\b\b\b\b\b\b\b\b\b\b\b\b\b\b\b\b\b\b\b\r200876/200876 [==============================] - 47s 236us/sample - loss: 0.2712 - acc: 0.9150 - val_loss: 0.0207 - val_acc: 0.9955\n",
            "Epoch 2/30\n",
            "200876/200876 [==============================] - 39s 194us/sample - loss: 0.0563 - acc: 0.9819 - val_loss: 0.0102 - val_acc: 0.9953\n",
            "Epoch 3/30\n",
            "200876/200876 [==============================] - 38s 189us/sample - loss: 0.0396 - acc: 0.9872 - val_loss: 0.0075 - val_acc: 0.9979\n",
            "Epoch 4/30\n",
            "200876/200876 [==============================] - 39s 194us/sample - loss: 0.0336 - acc: 0.9898 - val_loss: 0.0012 - val_acc: 0.9997\n",
            "Epoch 5/30\n",
            "200876/200876 [==============================] - 38s 187us/sample - loss: 0.0289 - acc: 0.9913 - val_loss: 0.0105 - val_acc: 0.9955\n",
            "Epoch 6/30\n",
            "200876/200876 [==============================] - 37s 186us/sample - loss: 0.0275 - acc: 0.9919 - val_loss: 0.0027 - val_acc: 0.9987\n",
            "Epoch 7/30\n",
            "200876/200876 [==============================] - 37s 186us/sample - loss: 0.0261 - acc: 0.9925 - val_loss: 1.6245e-04 - val_acc: 1.0000\n",
            "Epoch 8/30\n",
            "200876/200876 [==============================] - 37s 186us/sample - loss: 0.0255 - acc: 0.9930 - val_loss: 0.0012 - val_acc: 0.9995\n",
            "Epoch 9/30\n",
            "200876/200876 [==============================] - 37s 186us/sample - loss: 0.0238 - acc: 0.9935 - val_loss: 6.2290e-04 - val_acc: 1.0000\n",
            "Epoch 10/30\n",
            "200876/200876 [==============================] - 37s 186us/sample - loss: 0.0246 - acc: 0.9939 - val_loss: 1.3071e-04 - val_acc: 1.0000\n",
            "Epoch 11/30\n",
            "200876/200876 [==============================] - 37s 187us/sample - loss: 0.0238 - acc: 0.9937 - val_loss: 1.1017e-04 - val_acc: 1.0000\n",
            "Epoch 12/30\n",
            "200876/200876 [==============================] - 38s 188us/sample - loss: 0.0234 - acc: 0.9940 - val_loss: 3.4355e-04 - val_acc: 1.0000\n",
            "Epoch 13/30\n",
            "200876/200876 [==============================] - 37s 186us/sample - loss: 0.0231 - acc: 0.9942 - val_loss: 0.0047 - val_acc: 0.9979\n",
            "Epoch 14/30\n",
            "200876/200876 [==============================] - 37s 186us/sample - loss: 0.0242 - acc: 0.9942 - val_loss: 0.0062 - val_acc: 0.9984\n",
            "Epoch 15/30\n",
            "200876/200876 [==============================] - 37s 186us/sample - loss: 0.0230 - acc: 0.9944 - val_loss: 0.0273 - val_acc: 0.9966\n",
            "Epoch 16/30\n",
            "200876/200876 [==============================] - 37s 186us/sample - loss: 0.0260 - acc: 0.9943 - val_loss: 0.0037 - val_acc: 0.9989\n",
            "Epoch 17/30\n",
            "200876/200876 [==============================] - 37s 185us/sample - loss: 0.0235 - acc: 0.9947 - val_loss: 2.4612e-05 - val_acc: 1.0000\n",
            "Epoch 18/30\n",
            "200876/200876 [==============================] - 37s 185us/sample - loss: 0.0240 - acc: 0.9949 - val_loss: 3.3736e-05 - val_acc: 1.0000\n",
            "Epoch 19/30\n",
            "200876/200876 [==============================] - 37s 185us/sample - loss: 0.0245 - acc: 0.9950 - val_loss: 4.5314e-06 - val_acc: 1.0000\n",
            "Epoch 20/30\n",
            "200876/200876 [==============================] - 37s 186us/sample - loss: 0.0233 - acc: 0.9953 - val_loss: 0.0019 - val_acc: 0.9989\n",
            "Epoch 21/30\n",
            "200876/200876 [==============================] - 37s 186us/sample - loss: 0.0265 - acc: 0.9950 - val_loss: 0.0040 - val_acc: 0.9989\n",
            "Epoch 22/30\n",
            "200876/200876 [==============================] - 37s 186us/sample - loss: 0.0250 - acc: 0.9951 - val_loss: 9.6722e-05 - val_acc: 1.0000\n",
            "Epoch 23/30\n",
            "200876/200876 [==============================] - 37s 186us/sample - loss: 0.0249 - acc: 0.9953 - val_loss: 0.0177 - val_acc: 0.9979\n",
            "Epoch 24/30\n",
            "200876/200876 [==============================] - 37s 186us/sample - loss: 0.0255 - acc: 0.9955 - val_loss: 6.7894e-05 - val_acc: 1.0000\n",
            "Epoch 25/30\n",
            "200876/200876 [==============================] - 37s 186us/sample - loss: 0.0259 - acc: 0.9955 - val_loss: 7.5640e-05 - val_acc: 1.0000\n",
            "Epoch 26/30\n",
            "200876/200876 [==============================] - 37s 186us/sample - loss: 0.0261 - acc: 0.9956 - val_loss: 3.7231e-07 - val_acc: 1.0000\n",
            "Epoch 27/30\n",
            "200876/200876 [==============================] - 37s 186us/sample - loss: 0.0251 - acc: 0.9956 - val_loss: 1.2834e-04 - val_acc: 1.0000\n",
            "Epoch 28/30\n",
            "200876/200876 [==============================] - 38s 187us/sample - loss: 0.0262 - acc: 0.9959 - val_loss: 0.0043 - val_acc: 0.9987\n",
            "Epoch 29/30\n",
            "200876/200876 [==============================] - 38s 187us/sample - loss: 0.0268 - acc: 0.9955 - val_loss: 2.2488e-06 - val_acc: 1.0000\n",
            "Epoch 30/30\n",
            "200876/200876 [==============================] - 37s 186us/sample - loss: 0.0266 - acc: 0.9958 - val_loss: 0.0016 - val_acc: 0.9997\n"
          ]
        }
      ],
      "source": [
        "model=cnn_model(x_train, y_train, x_test, y_test)\n",
        "\n",
        "model.compile(loss='categorical_crossentropy', metrics=['accuracy'], optimizer='adam')\n",
        "\n",
        "    # Train the data with training set, and check the result with validation accuracy\n",
        "    #callbacks=[tensorboard_callback, cm_callback],\n",
        "history=model.fit(x_train, y_train, batch_size=20, epochs=30,  validation_data=(x_test, y_test))  #epoch 30 exact result"
      ]
    },
    {
      "cell_type": "code",
      "execution_count": null,
      "metadata": {
        "colab": {
          "base_uri": "https://localhost:8080/",
          "height": 621
        },
        "id": "LbLYVRf96Xns",
        "outputId": "311b7d9a-9bc4-44c8-de14-47543a9c0a96"
      },
      "outputs": [
        {
          "output_type": "stream",
          "name": "stderr",
          "text": [
            "/usr/local/lib/python3.7/dist-packages/keras/engine/training_v1.py:2079: UserWarning: `Model.state_updates` will be removed in a future version. This property should not be used in TensorFlow 2.0, as `updates` are applied automatically.\n",
            "  updates=self.state_updates,\n"
          ]
        },
        {
          "output_type": "display_data",
          "data": {
            "image/png": "[encoded data removed]",
            "text/plain": [
              "<Figure size 576x576 with 2 Axes>"
            ]
          },
          "metadata": {
            "needs_background": "light"
          }
        }
      ],
      "source": [
        "import sklearn\n",
        "class_names=['Call', 'Close', 'Cold', 'Correct', 'Fine', 'Help', 'Home', 'ILoveYou', 'Like', 'Love', 'No', 'Ok', 'Please', 'Single', 'Sit', 'Tall', 'Wash', 'Work', 'Yes', 'You']\n",
        "x_test = x_test.reshape(x_test.shape[0], IMG_SIZE, IMG_SIZE, 3)\n",
        "prediction=model.predict(x_test, batch_size=128, verbose=0)\n",
        "#prediction_class=success_rate.predict_classes(x_test, batch_size=128, verbose=0)\n",
        "rounded_predictions=np.argmax(prediction, axis=1)\n",
        "\n",
        "# Calculate the confusion matrix using sklearn.metrics\n",
        "cm = sklearn.metrics.confusion_matrix(y_test_ml, rounded_predictions)\n",
        "    \n",
        "figure = plot_confusion_matrix(cm, class_names=class_names)\n",
        "\n",
        "\n",
        "#cm_image = plot_to_image(figure)\n",
        "\n",
        "    \n",
        "    # Log the confusion matrix as an image summary.\n",
        "#with file_writer_cm.as_default():\n",
        "      #tf.summary.image(\"Confusion Matrix\", cm_image, step=epoch)"
      ]
    },
    {
      "cell_type": "code",
      "execution_count": null,
      "metadata": {
        "colab": {
          "base_uri": "https://localhost:8080/"
        },
        "id": "j3Oqk1zP-Zhq",
        "outputId": "b522ddd3-a65e-44f4-92bf-cf851915ff09"
      },
      "outputs": [
        {
          "output_type": "stream",
          "name": "stdout",
          "text": [
            "\n",
            "Classification Report for pca & random forest:\n",
            "              precision    recall  f1-score   support\n",
            "\n",
            "           0       0.87      0.66      0.75      2548\n",
            "           1       0.83      0.60      0.70      2444\n",
            "           2       0.67      0.81      0.73      2535\n",
            "           3       0.79      0.66      0.72      2496\n",
            "           4       0.68      0.72      0.70      2522\n",
            "           5       0.80      0.71      0.75      2470\n",
            "           6       0.74      0.76      0.75      2457\n",
            "           7       0.58      0.67      0.62      2470\n",
            "           8       0.82      0.69      0.75      2470\n",
            "           9       0.79      0.68      0.73      2470\n",
            "          10       0.76      0.59      0.67      2470\n",
            "          11       0.48      0.87      0.62      2600\n",
            "          12       0.70      0.82      0.75      2470\n",
            "          13       0.67      0.73      0.70      2470\n",
            "          14       0.66      0.74      0.70      2470\n",
            "          15       0.68      0.75      0.71      2236\n",
            "          16       0.75      0.58      0.65      2483\n",
            "          17       0.63      0.69      0.66      2470\n",
            "          18       0.79      0.57      0.66      2535\n",
            "          19       0.65      0.64      0.65      2236\n",
            "\n",
            "    accuracy                           0.70     49322\n",
            "   macro avg       0.72      0.70      0.70     49322\n",
            "weighted avg       0.72      0.70      0.70     49322\n",
            "\n"
          ]
        }
      ],
      "source": [
        "from sklearn.metrics import classification_report, confusion_matrix, accuracy_score\n",
        "result_rf = confusion_matrix(y_test_ml, rounded_predictions)\n",
        "\n",
        "result1_rf = classification_report(y_test_ml, rounded_predictions)\n",
        "print(\"\\nClassification Report for pca & random forest:\",)\n",
        "print (result1_rf)\n"
      ]
    },
    {
      "cell_type": "code",
      "execution_count": null,
      "metadata": {
        "colab": {
          "base_uri": "https://localhost:8080/",
          "height": 364
        },
        "id": "RUlDRSoamCkg",
        "outputId": "b631738d-4e5e-455f-be8c-986160f9c260"
      },
      "outputs": [
        {
          "name": "stdout",
          "output_type": "stream",
          "text": [
            "Collecting scikit-learn==0.24\n",
            "  Downloading scikit_learn-0.24.0-cp37-cp37m-manylinux2010_x86_64.whl (22.3 MB)\n",
            "\u001b[K     |████████████████████████████████| 22.3 MB 1.4 MB/s \n",
            "\u001b[?25hRequirement already satisfied: numpy>=1.13.3 in /usr/local/lib/python3.7/dist-packages (from scikit-learn==0.24) (1.19.5)\n",
            "Requirement already satisfied: scipy>=0.19.1 in /usr/local/lib/python3.7/dist-packages (from scikit-learn==0.24) (1.4.1)\n",
            "Requirement already satisfied: joblib>=0.11 in /usr/local/lib/python3.7/dist-packages (from scikit-learn==0.24) (1.0.1)\n",
            "Collecting threadpoolctl>=2.0.0\n",
            "  Downloading threadpoolctl-3.0.0-py3-none-any.whl (14 kB)\n",
            "Installing collected packages: threadpoolctl, scikit-learn\n",
            "  Attempting uninstall: scikit-learn\n",
            "    Found existing installation: scikit-learn 0.22.2.post1\n",
            "    Uninstalling scikit-learn-0.22.2.post1:\n",
            "      Successfully uninstalled scikit-learn-0.22.2.post1\n",
            "Successfully installed scikit-learn-0.24.0 threadpoolctl-3.0.0\n"
          ]
        },
        {
          "data": {
            "application/vnd.colab-display-data+json": {
              "pip_warning": {
                "packages": [
                  "sklearn"
                ]
              }
            }
          },
          "metadata": {},
          "output_type": "display_data"
        }
      ],
      "source": [
        "!pip install scikit-learn==0.24"
      ]
    },
    {
      "cell_type": "markdown",
      "source": [
        "#loss"
      ],
      "metadata": {
        "id": "_Pw9XJ7YUDnE"
      }
    },
    {
      "cell_type": "code",
      "source": [
        "loss = history.history['loss']\n",
        "print('Training loss:',loss)\n",
        "\n",
        "loss_val = history.history['val_loss']\n",
        "print('Validation loss:',loss_val)\n",
        "\n",
        "epochs = range(0,30)\n",
        "\n",
        "plt.plot(epochs, loss, 'g', label='Training loss')\n",
        "\n",
        "plt.plot(epochs, loss_val, 'b', label='Test loss')\n",
        "\n",
        "plt.title('Taining and Test loss')\n",
        "\n",
        "plt.xlabel('Epochs')\n",
        "\n",
        "plt.ylabel('Loss')\n",
        "\n",
        "plt.legend()\n",
        "\n",
        "plt.show()"
      ],
      "metadata": {
        "colab": {
          "base_uri": "https://localhost:8080/",
          "height": 351
        },
        "id": "8DQp87NnUBu6",
        "outputId": "65988eef-951e-40ea-f92a-6da686330967"
      },
      "execution_count": null,
      "outputs": [
        {
          "output_type": "stream",
          "name": "stdout",
          "text": [
            "Training loss: [0.852625214120958, 0.07682183674531552, 0.0372005453245674, 0.025783008246557628, 0.016604040528135612, 0.02083611638977298, 0.013792408852426264, 0.012376658016281902, 0.013459177458055015, 0.010980444493061509, 0.00829250833179783, 0.008839449154522349, 0.009434031375867338, 0.015522407402417972, 0.00456908106361624, 0.010542065200277412, 0.007122092411932976, 0.00673534798993592, 0.006252734197189139, 0.005594309296261941, 0.01127343700104674, 0.006594301256482507, 0.0082321186586014, 0.011061418230270171, 0.009303192547899207, 0.0023962740398698083, 0.009358871253038092, 0.0064684970609378755, 0.006528610042743701, 0.005236002490627334]\n",
            "Validation loss: [1.9943654648731537, 1.849259997385402, 2.24933030877913, 2.185369046037202, 2.384950199012597, 2.573435763255663, 3.0784774995036024, 2.992371571486329, 2.9484530930457207, 3.268444180882551, 2.6020751723009887, 3.114883528444305, 2.9067343288488687, 2.7504429381657514, 3.202220599747288, 3.6775986460170422, 3.5874360365244233, 3.7650465849347943, 3.4714393790504063, 4.284922451564417, 3.7081992288383803, 5.066331070469517, 5.424765600941722, 4.409597327585051, 3.546484616964199, 3.7568108823635225, 4.333380735934175, 4.166249416805736, 4.648556433038375, 3.8309337133976897]\n"
          ]
        },
        {
          "output_type": "display_data",
          "data": {
            "image/png": "[encoded data removed]",
            "text/plain": [
              "<Figure size 432x288 with 1 Axes>"
            ]
          },
          "metadata": {
            "needs_background": "light"
          }
        }
      ]
    },
    {
      "cell_type": "markdown",
      "source": [
        "Accuracy"
      ],
      "metadata": {
        "id": "xHzUDWWBUFYr"
      }
    },
    {
      "cell_type": "code",
      "source": [
        "loss_train = history.history['acc']\n",
        "print(\"Training accuracy:\", loss_train)\n",
        "loss_val = history.history['val_acc']\n",
        "print(\"Test Accuracy\",loss_val)\n",
        "\n",
        "epochs = range(0,30)\n",
        "\n",
        "plt.plot(epochs, loss_train, 'g', label='Training accuracy')\n",
        "\n",
        "plt.plot(epochs, loss_val, 'b', label='Test accuracy')\n",
        "\n",
        "plt.title('Taining and Test accuracy')\n",
        "\n",
        "plt.xlabel('Epochs')\n",
        "\n",
        "plt.ylabel('Accuracy')\n",
        "\n",
        "plt.legend()\n",
        "\n",
        "plt.show()"
      ],
      "metadata": {
        "colab": {
          "base_uri": "https://localhost:8080/",
          "height": 351
        },
        "id": "zVlmdjaLUG9k",
        "outputId": "c41ecf17-c996-4b26-8956-df412cc52c06"
      },
      "execution_count": null,
      "outputs": [
        {
          "output_type": "stream",
          "name": "stdout",
          "text": [
            "Training accuracy: [0.7412632703781128, 0.974631130695343, 0.9886099100112915, 0.9915221333503723, 0.9946285486221313, 0.9926223158836365, 0.9946932196617126, 0.9963111281394958, 0.9957934021949768, 0.996440589427948, 0.9975407719612122, 0.9980584979057312, 0.9966994524002075, 0.9956640005111694, 0.9988998174667358, 0.9965053200721741, 0.9979937672615051, 0.9978643655776978, 0.9985114932060242, 0.9985114932060242, 0.9971524477005005, 0.9978643655776978, 0.9976702332496643, 0.9974760413169861, 0.9977349042892456, 0.9994175434112549, 0.9970230460166931, 0.9981879591941833, 0.9983173608779907, 0.9994175434112549]\n",
            "Test Accuracy [0.5930213928222656, 0.6502372026443481, 0.6763918995857239, 0.6811970472335815, 0.6957949995994568, 0.6857183575630188, 0.69553142786026, 0.6640849709510803, 0.6764121651649475, 0.6592392921447754, 0.682190477848053, 0.6763310432434082, 0.6322128176689148, 0.6956327557563782, 0.6843396425247192, 0.6867726445198059, 0.686671257019043, 0.6923279762268066, 0.7074936032295227, 0.6695186495780945, 0.6895502805709839, 0.6499533653259277, 0.6857386231422424, 0.658549964427948, 0.6939905285835266, 0.7032561302185059, 0.6828595995903015, 0.6977616548538208, 0.6940107941627502, 0.6973155736923218]\n"
          ]
        },
        {
          "output_type": "display_data",
          "data": {
            "image/png": "[encoded data removed]",
            "text/plain": [
              "<Figure size 432x288 with 1 Axes>"
            ]
          },
          "metadata": {
            "needs_background": "light"
          }
        }
      ]
    },
    {
      "cell_type": "code",
      "execution_count": null,
      "metadata": {
        "colab": {
          "base_uri": "https://localhost:8080/",
          "height": 610
        },
        "id": "QAIIWAv5Wkgf",
        "outputId": "b2f67e8c-f814-41f8-b840-d51f804b5706"
      },
      "outputs": [
        {
          "name": "stdout",
          "output_type": "stream",
          "text": [
            "[INFO] accuracy: 68.48%\n",
            "[INFO] Loss: 3.4047387336264427\n"
          ]
        },
        {
          "data": {
            "image/png": "[encoded data removed]",
            "text/plain": [
              "<Figure size 432x288 with 1 Axes>"
            ]
          },
          "metadata": {},
          "output_type": "display_data"
        },
        {
          "data": {
            "image/png": "[encoded data removed]",
            "text/plain": [
              "<Figure size 432x288 with 1 Axes>"
            ]
          },
          "metadata": {},
          "output_type": "display_data"
        }
      ],
      "source": [
        "from sklearn import metrics\n",
        "from sklearn.metrics import confusion_matrix\n",
        "\n",
        "#model.save_weights(top_model_weights_path)\n",
        "(eval_loss, eval_accuracy) = model.evaluate(x_test, y_test, batch_size=32,verbose=1)\n",
        "print(\"[INFO] accuracy: {:.2f}%\".format(eval_accuracy * 100)) \n",
        "print(\"[INFO] Loss: {}\".format(eval_loss)) \n",
        "\n",
        "#Graphing our training and validation\n",
        "acc = history.history['acc']\n",
        "val_acc = history.history['val_acc']\n",
        "loss = history.history['loss']\n",
        "val_loss = history.history['val_loss']\n",
        "epochs = range(len(acc))\n",
        "plt.plot(epochs, acc, 'r', label='Training acc')\n",
        "plt.plot(epochs, val_acc, 'b', label='Validation acc')\n",
        "plt.title('Training and validation accuracy')\n",
        "plt.ylabel('accuracy') \n",
        "plt.xlabel('epoch')\n",
        "plt.legend()\n",
        "plt.figure()\n",
        "plt.plot(epochs, loss, 'r', label='Training loss')\n",
        "plt.plot(epochs, val_loss, 'b', label='Validation loss')\n",
        "plt.title('Training and validation loss')\n",
        "plt.ylabel('loss') \n",
        "plt.xlabel('epoch')\n",
        "plt.legend()\n",
        "plt.show()\n",
        "\n",
        "print('Training Accuracy:', acc)\n",
        "print(\"Validation Accuracy:\", val_acc)\n",
        "print(\"Training Loss:\" loss)\n",
        "print(\"validation Loss\": val_loss)"
      ]
    },
    {
      "cell_type": "code",
      "execution_count": null,
      "metadata": {
        "id": "rhi7X3-qbxEi"
      },
      "outputs": [],
      "source": [
        "pred=np.round(model.predict(x_test),0)\n",
        "classification_matricse=matrics.classification_report(y_test_ml,pred, target_names=class_names)\n",
        "print(classification_matricse)\n",
        "\n",
        "confusion_matrix= confusion_matrix(y_test_ml,pred)\n",
        "\n",
        "k=plot_confusion_matrix(cm, class_names=class_names)\n",
        "\n"
      ]
    },
    {
      "cell_type": "code",
      "execution_count": null,
      "metadata": {
        "id": "6gUzjA4GBj23"
      },
      "outputs": [],
      "source": [
        "from keras.callbacks import TensorBoard\n",
        "def plot_confusion_matrix(cm, class_names):\n",
        "    import itertools\n",
        "    import io\n",
        "    \"\"\"\n",
        "    Returns a matplotlib figure containing the plotted confusion matrix.\n",
        "    \n",
        "    Args:\n",
        "       cm (array, shape = [n, n]): a confusion matrix of integer classes\n",
        "       class_names (array, shape = [n]): String names of the integer classes\n",
        "    \"\"\"\n",
        "    \n",
        "    figure = plt.figure(figsize=(8, 8))\n",
        "    plt.imshow(cm, interpolation='nearest', cmap=plt.cm.Blues)\n",
        "    plt.title(\"Confusion matrix\")\n",
        "    plt.colorbar()\n",
        "    tick_marks = np.arange(len(class_names))\n",
        "    plt.xticks(tick_marks, class_names, rotation=45)\n",
        "    plt.yticks(tick_marks, class_names)\n",
        "    \n",
        "    # Normalize the confusion matrix.\n",
        "    cm = np.around(cm.astype('float') / cm.sum(axis=1)[:, np.newaxis], decimals=2)\n",
        "    \n",
        "    # Use white text if squares are dark; otherwise black.\n",
        "    threshold = cm.max() / 2.\n",
        "    \n",
        "    for i, j in itertools.product(range(cm.shape[0]), range(cm.shape[1])):\n",
        "        color = \"white\" if cm[i, j] > threshold else \"black\"\n",
        "        plt.text(j, i, cm[i, j], horizontalalignment=\"center\", color=color)\n",
        "        \n",
        "    plt.tight_layout()\n",
        "    plt.ylabel('True label')\n",
        "    plt.xlabel('Predicted label')\n",
        "    return figure\n",
        "from datetime import datetime\n",
        "import keras\n",
        "logdir = \"logs/fit\" + datetime.now().strftime(\"%Y%m%d-%H%M%S\")\n",
        "tensorboard_callback = keras.callbacks.TensorBoard(log_dir = logdir, histogram_freq = 1)\n",
        "file_writer_cm = tf.summary.create_file_writer(logdir + '/cm')\n",
        "\n",
        "def plot_to_image(figure):\n",
        "    import io\n",
        "    \"\"\"\n",
        "    Converts the matplotlib plot specified by 'figure' to a PNG image and\n",
        "    returns it. The supplied figure is closed and inaccessible after this call.\n",
        "    \"\"\"\n",
        "    \n",
        "    buf = io.BytesIO()\n",
        "    \n",
        "    # Use plt.savefig to save the plot to a PNG in memory.\n",
        "    plt.savefig(buf, format='png')\n",
        "    \n",
        "    # Closing the figure prevents it from being displayed directly inside\n",
        "    # the notebook.\n",
        "    plt.close(figure)\n",
        "    buf.seek(0)\n",
        "    \n",
        "    # Use tf.image.decode_png to convert the PNG buffer\n",
        "    # to a TF image. Make sure you use 4 channels.\n",
        "    image = tf.image.decode_png(buf.getvalue(), channels=4)\n",
        "    \n",
        "    # Use tf.expand_dims to add the batch dimension\n",
        "    image = tf.expand_dims(image, 0)\n",
        "    \n",
        "    return image\n",
        "epoch=10\n",
        "def log_confusion_matrix(epoch, logs):\n",
        "    \n",
        "    # Use the model to predict the values from the test_images.\n",
        "    test_pred_raw = model.predict(test_images)\n",
        "    \n",
        "    test_pred = np.argmax(test_pred_raw, axis=1)\n",
        "    \n",
        "    # Calculate the confusion matrix using sklearn.metrics\n",
        "    cm = sklearn.metrics.confusion_matrix(test_labels, test_pred)\n",
        "    \n",
        "    figure = plot_confusion_matrix(cm, class_names=class_names)\n",
        "    cm_image = plot_to_image(figure)\n",
        "    \n",
        "    # Log the confusion matrix as an image summary.\n",
        "    with file_writer_cm.as_default():\n",
        "        tf.summary.image(\"Confusion Matrix\", cm_image, step=epoch)\n",
        "#cm_callback = keras.callbacks.LambdaCallback(on_epoch_end=log_confusion_matrix)"
      ]
    },
    {
      "cell_type": "code",
      "execution_count": null,
      "metadata": {
        "id": "LYXEM0F0eGAo"
      },
      "outputs": [],
      "source": [
        "#Second Confusion Matrix\n",
        "\n"
      ]
    },
    {
      "cell_type": "markdown",
      "metadata": {
        "id": "v5PN5DYdTsvw"
      },
      "source": [
        "### https://www.analyticsvidhya.com/blog/2020/02/learn-image-classification-cnn-convolutional-neural-networks-3-datasets/\n",
        "\n",
        "CNN architecture: http://alexlenail.me/NN-SVG/LeNet.html"
      ]
    },
    {
      "cell_type": "markdown",
      "metadata": {
        "id": "gM9Sq-CIAHe9"
      },
      "source": [
        "##RNN"
      ]
    },
    {
      "cell_type": "code",
      "execution_count": null,
      "metadata": {
        "id": "m0jE3Y9VAJtU"
      },
      "outputs": [],
      "source": [
        "def RNN_model(images,y):\n",
        "    X=images\n",
        "    X=X/255.0;\n",
        "    y=np.array(y)\n",
        "    print(X.shape)\n",
        "    print(y.shape)\n",
        "    from sklearn. model_selection import train_test_split\n",
        "    x_train, x_test,y_train,y_test=train_test_split(X,y,test_size=0.3, random_state=109)\n",
        "    print(x_train.shape)\n",
        "    print(y_train.shape)\n",
        "    print(x_test.shape)\n",
        "    print(y_test.shape)\n",
        "\n",
        "    #print(x_train.shape)\n",
        "\n",
        "    #x_train=x_train.reshape(126000,40,40)\n",
        "    #x_test=x_test.reshape(54000,40,40)\n",
        "    #print('shape',x_train.shape)\n",
        "    #print('shape',x_test.shape)\n",
        "\n",
        "    model=Sequential()\n",
        "    #model.add(Dense(256, input_shape=(x_train.shape[1], x_train.shape[2])))\n",
        "    model.add(LSTM(128,input_shape=(40,40,3),activation='relu', return_sequences=True)) #input_shape=x_trin.shape[1:]\n",
        "    model.add(Dropout(0.2))\n",
        "\n",
        "    #model.add(LSTM(128, return_sequences='true'))\n",
        "    #model.add(Dropout(0.2))\n",
        "    model.add(LSTM(128, activation='relu'))\n",
        "    model.add(Dropout(0.2))\n",
        "\n",
        "    #model.add(LSTM(32, activation='relu'))\n",
        "    #model.add(Dropout(0.2))\n",
        "    model.add(Dense(32, activation='relu'))\n",
        "    model.add(Dropout(0.2))\n",
        "\n",
        "    #model.add(LSTM(20, activation='softmax', return_sequences=False))\n",
        "    model.add(Dense(20, activation='softmax'))\n",
        "    opt=tf.keras.optimizers.Adam(lr=1e-3, decay=1e-5)\n",
        "\n",
        "    model.compile(loss='sparse_categorical_crossentropy',optimizer=opt, metrics=['accuracy'])\n",
        "    mf=model.fit(x_train,y_train,epochs=10,validation_data=(x_test,y_test))\n",
        "    return mf\n"
      ]
    },
    {
      "cell_type": "markdown",
      "metadata": {
        "id": "oi56q7oLFYIm"
      },
      "source": [
        "###run Rnn"
      ]
    },
    {
      "cell_type": "code",
      "execution_count": null,
      "metadata": {
        "id": "wL6bOxvvFcCA"
      },
      "outputs": [],
      "source": [
        "#success_rate=RNN_model(images,y)"
      ]
    },
    {
      "cell_type": "markdown",
      "metadata": {
        "id": "BqoiTByFR0Ls"
      },
      "source": [
        "#Machine Learning on Augmented dataset"
      ]
    },
    {
      "cell_type": "code",
      "execution_count": null,
      "metadata": {
        "id": "g7TBBX-YR571"
      },
      "outputs": [],
      "source": []
    },
    {
      "cell_type": "code",
      "execution_count": null,
      "metadata": {
        "id": "iBUe-pZAm09m"
      },
      "outputs": [],
      "source": []
    },
    {
      "cell_type": "code",
      "execution_count": null,
      "metadata": {
        "id": "utdtqhbeR6dI"
      },
      "outputs": [],
      "source": [
        "def classificationsvm(feature_mat,train_label,eval_feature_mat,eval_label):\n",
        "    print(\"SVM running....................\")\n",
        "    svm_kernel='RGB'\n",
        "    svm_c=0.1\n",
        "    if svm_kernel == 'RGB':\n",
        "       clf = LinearSVC(C = svm_c, intercept_scaling=1, loss='hinge', max_iter=10000,multi_class='ovr', penalty='l2', random_state=1, tol=0.00001)\n",
        "    else:\n",
        "       clf = SVC(svm_c,svm_kernel, degree=10, gamma='auto', coef0=0.0, tol=0.001, cache_size=10000, max_iter=-1, decision_function_shape='ovr')\n",
        "    clf.fit(feature_mat,train_label)\n",
        "    success_rate = clf.score(eval_feature_mat,eval_label)\n",
        "    print(\"success rate is =\", success_rate)\n",
        "    return success_rate\n",
        "\n",
        "def classificationrandom(feature_mat,train_label,eval_feature_mat,eval_label):\n",
        "    print(\"Random Forest Running....................\")\n",
        "    depth=2\n",
        "    model=RandomForestClassifier(max_depth=depth,random_state=0,n_estimators=1500)\n",
        "    model.fit(feature_mat,train_label)\n",
        "    success_rate = model.score(eval_feature_mat,eval_label)\n",
        "    #success_rate_2 = model.score(feat_train,labels_train)\n",
        "    print(\"success rate is =\",success_rate)\n",
        "    return success_rate\n",
        "\n",
        "def classificationlogistic(feature_mat,train_label,eval_feature_mat,eval_label):\n",
        "    print(\"Logistic Regression running....................\")\n",
        "    clf=LogisticRegression(penalty='l2', dual=False, tol=0.0001, C=1.0, fit_intercept=True, intercept_scaling=1, class_weight=None, random_state=None, solver='lbfgs', max_iter=100, multi_class='auto', verbose=0, warm_start=False, n_jobs=None, l1_ratio=None).fit(feature_mat,train_label)\n",
        "    success_rate = clf.score(eval_feature_mat,eval_label)\n",
        "    #success_rate_2 = model.score(feat_train,labels_train)\n",
        "    print(\"success rate is =\",success_rate)\n",
        "    return success_rate\n",
        "def classificationbayes(feature_mat,train_label,eval_feature_mat,eval_label):\n",
        "    print(\"Bayesian theorem running....................\")\n",
        "    gnb=GaussianNB()\n",
        "    gnb.fit(feature_mat,train_label)\n",
        "    success_rate = gnb.score(eval_feature_mat,eval_label)\n",
        "    #success_rate_2 = model.score(feat_train,labels_train)\n",
        "    print(\"success rate is =\",success_rate)\n",
        "    return success_rate\n",
        "def classificationKnn(feature_mat,train_label,eval_feature_mat,eval_label):\n",
        "    print(\"KNN running....................\")\n",
        "    neighbor=4\n",
        "    neigh = KNeighborsClassifier(n_neighbors=neighbor)\n",
        "    neigh.fit(feature_mat,train_label)\n",
        "    success_rate = neigh.score(eval_feature_mat,eval_label)\n",
        "    print(\"success rate of KNN is =\",success_rate),\n",
        "    return success_rate\n",
        "\n",
        "\n",
        "from sklearn.ensemble import GradientBoostingClassifier\n",
        "def Gboost(feat_train, ytrain, feat_test, label_test):\n",
        "          print(\"Gboost Accuracy:=\")\n",
        "          model = GradientBoostingClassifier(n_estimators=100, learning_rate=1.0,max_depth=1, random_state=0)\n",
        "          model.fit(feat_train, ytrain)\n",
        "          success_rate=model.score(feat_test, label_test)\n",
        "          print(success_rate)\n",
        "          return success_rate\n",
        "          \n",
        "#Histogram Gradient Boosting\n",
        "from sklearn.experimental import enable_hist_gradient_boosting\n",
        "from sklearn.ensemble import HistGradientBoostingClassifier\n",
        "def HGboost(x_train, y_train, x_test, y_test):\n",
        "    print('Histogram Gradient Boosting=')\n",
        "    model = HistGradientBoostingClassifier(max_bins=255, max_iter=100)\n",
        "    model.fit(x_train, y_train)\n",
        "    success_rate = model.score(x_test,y_test)    \n",
        "    print(success_rate)    \n",
        "    return success_rate\n",
        "\n",
        "#Histogram Gradient Boosting With XGBoost\n",
        "from xgboost import XGBClassifier\n",
        "def HGboostX(x_train, y_train, x_test, y_test):\n",
        "    print('Histogram Gradient Boosting With XGBoost=')\n",
        "    model = XGBClassifier(tree_method='approx', max_bin=255, n_estimators=100)\n",
        "    model.fit(x_train, y_train)\n",
        "    success_rate = model.score(x_test,y_test)    \n",
        "    print(success_rate)    \n",
        "    return success_rate\n",
        "\n",
        "\n",
        "from lightgbm import LGBMClassifier\n",
        "def LightGBM(x_train, y_train, x_test, y_test):\n",
        "    print(\"Light GBM Accuracy:=\")\n",
        "    model = LGBMClassifier(learning_rate = 0.001,num_leaves = 255,num_trees = 500,num_threads = 16,min_data_in_leaf = 0,min_sum_hessian_in_leaf = 100)\n",
        "    model.fit(x_train, y_train)\n",
        "    success_rate = model.score(x_test,y_test)\n",
        "    \n",
        "    print(success_rate)\n",
        "    yprediction=model.predict(x_test)\n",
        "    from sklearn.metrics import classification_report, confusion_matrix, accuracy_score\n",
        "    cm = confusion_matrix(y_test,  yprediction)\n",
        "    print(\"\\nConfusion Matrix for pca & random forest:\")\n",
        "    print(cm)\n",
        "    plot_confusion_matrix(cm, class_names)\n",
        "    figure = plot_confusion_matrix(cm, class_names=class_names)\n",
        "    result1_rf = classification_report(y_test,  yprediction)\n",
        "    \n",
        "    print(\"\\nClassification Report for pca & random forest:\",)\n",
        "    print (result1_rf)  \n",
        "    \n",
        "    return success_rate\n",
        "\n",
        "\n",
        "\n",
        "# PyRiemann imports\n",
        "# import pyriemann\n",
        "# from pyriemann.estimation import XdawnCovariances\n",
        "# from pyriemann.tangentspace import TangentSpace\n",
        "# from pyriemann.utils.viz import plot_confusion_matrix\n",
        "# from sklearn.pipeline import make_pipeline\n",
        "# from sklearn.linear_model import LogisticRegression\n",
        "\n",
        "def xdrawnran(X_train,Y_train,X_test,Y_test):\n",
        "    print(X_train.shape)\n",
        "    print(Y_train.shape)\n",
        "    #X_train=X_train[:,0:1506250]\n",
        "    #X_test=X_test[:,0:1506250]\n",
        "    #print(X_train.shape)\n",
        "    #print(X_test.shape)\n",
        "    print(\"Xdrawn  running....................\")\n",
        "    kernels, chans, samples = 1, 25, 250\n",
        "    n_components = 2  # pick some components\n",
        "\n",
        "    # set up sklearn pipeline\n",
        "    clf = make_pipeline(XdawnCovariances(n_components),\n",
        "                       TangentSpace(metric='riemann'),\n",
        "                       LogisticRegression())\n",
        "    preds_rg     = np.zeros(len(Y_test))\n",
        "    # reshape back to (trials, channels, samples)\n",
        "    X_train      = X_train.reshape(X_train.shape[0], chans, samples)\n",
        "    X_test       = X_test.reshape(X_test.shape[0], chans, samples)\n",
        "    print(X_train.shape)\n",
        "    print(Y_test.shape)\n",
        "\n",
        "    # train a classifier with xDAWN spatial filtering + Riemannian Geometry (RG)\n",
        "    # labels need to be back in single-column format\n",
        "    clf.fit(X_train, Y_train.argmax(axis = -1))\n",
        "    preds_rg     = clf.predict(X_test)\n",
        "    # Printing the results\n",
        "    acc2         = np.mean(preds_rg == Y_test.argmax(axis = -1))\n",
        "    print(\"Xdrawn  accuracy: %f \" % (acc2))\n",
        "    return acc2\n",
        "\n",
        "\"\"\"# Xdrawn +**MD**\"\"\"\n",
        "\n",
        "# from matplotlib import pyplot as plt\n",
        "# from pyriemann.estimation import XdawnCovariances\n",
        "# from pyriemann.classification import MDM\n",
        "# from pyriemann.utils.viz import plot_confusion_matrix\n",
        "# from sklearn.pipeline import make_pipeline\n",
        "# from sklearn.model_selection import KFold\n",
        "# from sklearn.metrics import classification_report\n",
        "\n",
        "def xdrawnranmd(X_train,Y_train,X_test,Y_test):\n",
        "    n_components=2\n",
        "    xamd = make_pipeline(XdawnCovariances(n_components), MDM())\n",
        "    xamd.fit(X_train, Y_train)\n",
        "    preds_rg     = np.zeros(len(Y_test))\n",
        "    preds_rg     = xamd.predict(X_test)\n",
        "    # Printing the results\n",
        "    acc8         = np.mean(preds_rg == Y_test.argmax(axis = -1))\n",
        "    print(\"Classification accuracy: %f \" % (acc8))\n",
        "    return acc8\n"
      ]
    },
    {
      "cell_type": "markdown",
      "metadata": {
        "id": "Hvw0v92PSDFk"
      },
      "source": [
        "#run machine learning\n"
      ]
    },
    {
      "cell_type": "code",
      "execution_count": null,
      "metadata": {
        "colab": {
          "base_uri": "https://localhost:8080/",
          "height": 876
        },
        "id": "QXb25ybxSHUX",
        "outputId": "886757ea-8b63-4918-d9a9-9216a82b115e"
      },
      "outputs": [
        {
          "name": "stdout",
          "output_type": "stream",
          "text": [
            "x train shape (13333, 10800)\n",
            "y train shape (13333,)\n",
            "x test shape (5715, 10800)\n",
            "y test shape (5715,)\n",
            "Classfication starting\n",
            "SVM running....................\n"
          ]
        },
        {
          "name": "stderr",
          "output_type": "stream",
          "text": [
            "/usr/local/lib/python3.7/dist-packages/sklearn/svm/_base.py:947: ConvergenceWarning: Liblinear failed to converge, increase the number of iterations.\n",
            "  \"the number of iterations.\", ConvergenceWarning)\n"
          ]
        },
        {
          "name": "stdout",
          "output_type": "stream",
          "text": [
            "success rate is = 0.9996500437445319\n",
            "Random Forest Running....................\n",
            "success rate is = 0.4027996500437445\n",
            "Logistic Regression running....................\n"
          ]
        },
        {
          "name": "stderr",
          "output_type": "stream",
          "text": [
            "/usr/local/lib/python3.7/dist-packages/sklearn/linear_model/_logistic.py:940: ConvergenceWarning: lbfgs failed to converge (status=1):\n",
            "STOP: TOTAL NO. of ITERATIONS REACHED LIMIT.\n",
            "\n",
            "Increase the number of iterations (max_iter) or scale the data as shown in:\n",
            "    https://scikit-learn.org/stable/modules/preprocessing.html\n",
            "Please also refer to the documentation for alternative solver options:\n",
            "    https://scikit-learn.org/stable/modules/linear_model.html#logistic-regression\n",
            "  extra_warning_msg=_LOGISTIC_SOLVER_CONVERGENCE_MSG)\n"
          ]
        },
        {
          "name": "stdout",
          "output_type": "stream",
          "text": [
            "success rate is = 0.9993000874890638\n",
            "Bayesian theorem running....................\n",
            "success rate is = 0.8341207349081364\n",
            "KNN running....................\n",
            "success rate of KNN is = 0.9982502187226596\n",
            "Gboost Accuracy:=\n"
          ]
        },
        {
          "ename": "KeyboardInterrupt",
          "evalue": "ignored",
          "output_type": "error",
          "traceback": [
            "\u001b[0;31m---------------------------------------------------------------------------\u001b[0m",
            "\u001b[0;31mKeyboardInterrupt\u001b[0m                         Traceback (most recent call last)",
            "\u001b[0;32m<ipython-input-15-83e6878cc880>\u001b[0m in \u001b[0;36m<module>\u001b[0;34m()\u001b[0m\n\u001b[1;32m     13\u001b[0m \u001b[0msuccess_rate\u001b[0m\u001b[0;34m=\u001b[0m\u001b[0mclassificationbayes\u001b[0m\u001b[0;34m(\u001b[0m\u001b[0mx_train\u001b[0m\u001b[0;34m,\u001b[0m\u001b[0my_train\u001b[0m\u001b[0;34m,\u001b[0m\u001b[0mx_test\u001b[0m\u001b[0;34m,\u001b[0m\u001b[0my_test\u001b[0m\u001b[0;34m)\u001b[0m\u001b[0;34m;\u001b[0m    \u001b[0;31m#Baysian classifier\u001b[0m\u001b[0;34m\u001b[0m\u001b[0;34m\u001b[0m\u001b[0m\n\u001b[1;32m     14\u001b[0m \u001b[0msuccess_rate\u001b[0m\u001b[0;34m=\u001b[0m\u001b[0mclassificationKnn\u001b[0m\u001b[0;34m(\u001b[0m\u001b[0mx_train\u001b[0m\u001b[0;34m,\u001b[0m\u001b[0my_train\u001b[0m\u001b[0;34m,\u001b[0m\u001b[0mx_test\u001b[0m\u001b[0;34m,\u001b[0m\u001b[0my_test\u001b[0m\u001b[0;34m)\u001b[0m     \u001b[0;31m#Knn Classifier\u001b[0m\u001b[0;34m\u001b[0m\u001b[0;34m\u001b[0m\u001b[0m\n\u001b[0;32m---> 15\u001b[0;31m \u001b[0msuccess_rate\u001b[0m\u001b[0;34m=\u001b[0m\u001b[0mGboost\u001b[0m\u001b[0;34m(\u001b[0m\u001b[0mx_train\u001b[0m\u001b[0;34m,\u001b[0m\u001b[0my_train\u001b[0m\u001b[0;34m,\u001b[0m\u001b[0mx_test\u001b[0m\u001b[0;34m,\u001b[0m\u001b[0my_test\u001b[0m\u001b[0;34m)\u001b[0m  \u001b[0;31m# Gradient Boosting\u001b[0m\u001b[0;34m\u001b[0m\u001b[0;34m\u001b[0m\u001b[0m\n\u001b[0m\u001b[1;32m     16\u001b[0m \u001b[0msuccess_rate\u001b[0m\u001b[0;34m=\u001b[0m\u001b[0mHGboost\u001b[0m\u001b[0;34m(\u001b[0m\u001b[0mx_train\u001b[0m\u001b[0;34m,\u001b[0m\u001b[0my_train\u001b[0m\u001b[0;34m,\u001b[0m\u001b[0mx_test\u001b[0m\u001b[0;34m,\u001b[0m\u001b[0my_test\u001b[0m\u001b[0;34m)\u001b[0m\u001b[0;34m\u001b[0m\u001b[0;34m\u001b[0m\u001b[0m\n\u001b[1;32m     17\u001b[0m \u001b[0msuccess_rate\u001b[0m\u001b[0;34m=\u001b[0m\u001b[0mHGboostX\u001b[0m\u001b[0;34m(\u001b[0m\u001b[0mx_train\u001b[0m\u001b[0;34m,\u001b[0m\u001b[0my_train\u001b[0m\u001b[0;34m,\u001b[0m\u001b[0mx_test\u001b[0m\u001b[0;34m,\u001b[0m\u001b[0my_test\u001b[0m\u001b[0;34m)\u001b[0m   \u001b[0;31m# HistogramGradient Boosting\u001b[0m\u001b[0;34m\u001b[0m\u001b[0;34m\u001b[0m\u001b[0m\n",
            "\u001b[0;32m<ipython-input-14-db745fd4041f>\u001b[0m in \u001b[0;36mGboost\u001b[0;34m(feat_train, ytrain, feat_test, label_test)\u001b[0m\n\u001b[1;32m     51\u001b[0m           \u001b[0mprint\u001b[0m\u001b[0;34m(\u001b[0m\u001b[0;34m\"Gboost Accuracy:=\"\u001b[0m\u001b[0;34m)\u001b[0m\u001b[0;34m\u001b[0m\u001b[0;34m\u001b[0m\u001b[0m\n\u001b[1;32m     52\u001b[0m           \u001b[0mmodel\u001b[0m \u001b[0;34m=\u001b[0m \u001b[0mGradientBoostingClassifier\u001b[0m\u001b[0;34m(\u001b[0m\u001b[0mn_estimators\u001b[0m\u001b[0;34m=\u001b[0m\u001b[0;36m100\u001b[0m\u001b[0;34m,\u001b[0m \u001b[0mlearning_rate\u001b[0m\u001b[0;34m=\u001b[0m\u001b[0;36m1.0\u001b[0m\u001b[0;34m,\u001b[0m\u001b[0mmax_depth\u001b[0m\u001b[0;34m=\u001b[0m\u001b[0;36m1\u001b[0m\u001b[0;34m,\u001b[0m \u001b[0mrandom_state\u001b[0m\u001b[0;34m=\u001b[0m\u001b[0;36m0\u001b[0m\u001b[0;34m)\u001b[0m\u001b[0;34m\u001b[0m\u001b[0;34m\u001b[0m\u001b[0m\n\u001b[0;32m---> 53\u001b[0;31m           \u001b[0mmodel\u001b[0m\u001b[0;34m.\u001b[0m\u001b[0mfit\u001b[0m\u001b[0;34m(\u001b[0m\u001b[0mfeat_train\u001b[0m\u001b[0;34m,\u001b[0m \u001b[0mytrain\u001b[0m\u001b[0;34m)\u001b[0m\u001b[0;34m\u001b[0m\u001b[0;34m\u001b[0m\u001b[0m\n\u001b[0m\u001b[1;32m     54\u001b[0m           \u001b[0msuccess_rate\u001b[0m\u001b[0;34m=\u001b[0m\u001b[0mmodel\u001b[0m\u001b[0;34m.\u001b[0m\u001b[0mscore\u001b[0m\u001b[0;34m(\u001b[0m\u001b[0mfeat_test\u001b[0m\u001b[0;34m,\u001b[0m \u001b[0mlabel_test\u001b[0m\u001b[0;34m)\u001b[0m\u001b[0;34m\u001b[0m\u001b[0;34m\u001b[0m\u001b[0m\n\u001b[1;32m     55\u001b[0m           \u001b[0mprint\u001b[0m\u001b[0;34m(\u001b[0m\u001b[0msuccess_rate\u001b[0m\u001b[0;34m)\u001b[0m\u001b[0;34m\u001b[0m\u001b[0;34m\u001b[0m\u001b[0m\n",
            "\u001b[0;32m/usr/local/lib/python3.7/dist-packages/sklearn/ensemble/_gb.py\u001b[0m in \u001b[0;36mfit\u001b[0;34m(self, X, y, sample_weight, monitor)\u001b[0m\n\u001b[1;32m   1535\u001b[0m         n_stages = self._fit_stages(\n\u001b[1;32m   1536\u001b[0m             \u001b[0mX\u001b[0m\u001b[0;34m,\u001b[0m \u001b[0my\u001b[0m\u001b[0;34m,\u001b[0m \u001b[0mraw_predictions\u001b[0m\u001b[0;34m,\u001b[0m \u001b[0msample_weight\u001b[0m\u001b[0;34m,\u001b[0m \u001b[0mself\u001b[0m\u001b[0;34m.\u001b[0m\u001b[0m_rng\u001b[0m\u001b[0;34m,\u001b[0m \u001b[0mX_val\u001b[0m\u001b[0;34m,\u001b[0m \u001b[0my_val\u001b[0m\u001b[0;34m,\u001b[0m\u001b[0;34m\u001b[0m\u001b[0;34m\u001b[0m\u001b[0m\n\u001b[0;32m-> 1537\u001b[0;31m             sample_weight_val, begin_at_stage, monitor, X_idx_sorted)\n\u001b[0m\u001b[1;32m   1538\u001b[0m \u001b[0;34m\u001b[0m\u001b[0m\n\u001b[1;32m   1539\u001b[0m         \u001b[0;31m# change shape of arrays after fit (early-stopping or additional ests)\u001b[0m\u001b[0;34m\u001b[0m\u001b[0;34m\u001b[0m\u001b[0;34m\u001b[0m\u001b[0m\n",
            "\u001b[0;32m/usr/local/lib/python3.7/dist-packages/sklearn/ensemble/_gb.py\u001b[0m in \u001b[0;36m_fit_stages\u001b[0;34m(self, X, y, raw_predictions, sample_weight, random_state, X_val, y_val, sample_weight_val, begin_at_stage, monitor, X_idx_sorted)\u001b[0m\n\u001b[1;32m   1592\u001b[0m             raw_predictions = self._fit_stage(\n\u001b[1;32m   1593\u001b[0m                 \u001b[0mi\u001b[0m\u001b[0;34m,\u001b[0m \u001b[0mX\u001b[0m\u001b[0;34m,\u001b[0m \u001b[0my\u001b[0m\u001b[0;34m,\u001b[0m \u001b[0mraw_predictions\u001b[0m\u001b[0;34m,\u001b[0m \u001b[0msample_weight\u001b[0m\u001b[0;34m,\u001b[0m \u001b[0msample_mask\u001b[0m\u001b[0;34m,\u001b[0m\u001b[0;34m\u001b[0m\u001b[0;34m\u001b[0m\u001b[0m\n\u001b[0;32m-> 1594\u001b[0;31m                 random_state, X_idx_sorted, X_csc, X_csr)\n\u001b[0m\u001b[1;32m   1595\u001b[0m \u001b[0;34m\u001b[0m\u001b[0m\n\u001b[1;32m   1596\u001b[0m             \u001b[0;31m# track deviance (= loss)\u001b[0m\u001b[0;34m\u001b[0m\u001b[0;34m\u001b[0m\u001b[0;34m\u001b[0m\u001b[0m\n",
            "\u001b[0;32m/usr/local/lib/python3.7/dist-packages/sklearn/ensemble/_gb.py\u001b[0m in \u001b[0;36m_fit_stage\u001b[0;34m(self, i, X, y, raw_predictions, sample_weight, sample_mask, random_state, X_idx_sorted, X_csc, X_csr)\u001b[0m\n\u001b[1;32m   1243\u001b[0m             \u001b[0mX\u001b[0m \u001b[0;34m=\u001b[0m \u001b[0mX_csr\u001b[0m \u001b[0;32mif\u001b[0m \u001b[0mX_csr\u001b[0m \u001b[0;32mis\u001b[0m \u001b[0;32mnot\u001b[0m \u001b[0;32mNone\u001b[0m \u001b[0;32melse\u001b[0m \u001b[0mX\u001b[0m\u001b[0;34m\u001b[0m\u001b[0;34m\u001b[0m\u001b[0m\n\u001b[1;32m   1244\u001b[0m             tree.fit(X, residual, sample_weight=sample_weight,\n\u001b[0;32m-> 1245\u001b[0;31m                      check_input=False, X_idx_sorted=X_idx_sorted)\n\u001b[0m\u001b[1;32m   1246\u001b[0m \u001b[0;34m\u001b[0m\u001b[0m\n\u001b[1;32m   1247\u001b[0m             \u001b[0;31m# update tree leaves\u001b[0m\u001b[0;34m\u001b[0m\u001b[0;34m\u001b[0m\u001b[0;34m\u001b[0m\u001b[0m\n",
            "\u001b[0;32m/usr/local/lib/python3.7/dist-packages/sklearn/tree/_classes.py\u001b[0m in \u001b[0;36mfit\u001b[0;34m(self, X, y, sample_weight, check_input, X_idx_sorted)\u001b[0m\n\u001b[1;32m   1223\u001b[0m             \u001b[0msample_weight\u001b[0m\u001b[0;34m=\u001b[0m\u001b[0msample_weight\u001b[0m\u001b[0;34m,\u001b[0m\u001b[0;34m\u001b[0m\u001b[0;34m\u001b[0m\u001b[0m\n\u001b[1;32m   1224\u001b[0m             \u001b[0mcheck_input\u001b[0m\u001b[0;34m=\u001b[0m\u001b[0mcheck_input\u001b[0m\u001b[0;34m,\u001b[0m\u001b[0;34m\u001b[0m\u001b[0;34m\u001b[0m\u001b[0m\n\u001b[0;32m-> 1225\u001b[0;31m             X_idx_sorted=X_idx_sorted)\n\u001b[0m\u001b[1;32m   1226\u001b[0m         \u001b[0;32mreturn\u001b[0m \u001b[0mself\u001b[0m\u001b[0;34m\u001b[0m\u001b[0;34m\u001b[0m\u001b[0m\n\u001b[1;32m   1227\u001b[0m \u001b[0;34m\u001b[0m\u001b[0m\n",
            "\u001b[0;32m/usr/local/lib/python3.7/dist-packages/sklearn/tree/_classes.py\u001b[0m in \u001b[0;36mfit\u001b[0;34m(self, X, y, sample_weight, check_input, X_idx_sorted)\u001b[0m\n\u001b[1;32m    365\u001b[0m                                            min_impurity_split)\n\u001b[1;32m    366\u001b[0m \u001b[0;34m\u001b[0m\u001b[0m\n\u001b[0;32m--> 367\u001b[0;31m         \u001b[0mbuilder\u001b[0m\u001b[0;34m.\u001b[0m\u001b[0mbuild\u001b[0m\u001b[0;34m(\u001b[0m\u001b[0mself\u001b[0m\u001b[0;34m.\u001b[0m\u001b[0mtree_\u001b[0m\u001b[0;34m,\u001b[0m \u001b[0mX\u001b[0m\u001b[0;34m,\u001b[0m \u001b[0my\u001b[0m\u001b[0;34m,\u001b[0m \u001b[0msample_weight\u001b[0m\u001b[0;34m,\u001b[0m \u001b[0mX_idx_sorted\u001b[0m\u001b[0;34m)\u001b[0m\u001b[0;34m\u001b[0m\u001b[0;34m\u001b[0m\u001b[0m\n\u001b[0m\u001b[1;32m    368\u001b[0m \u001b[0;34m\u001b[0m\u001b[0m\n\u001b[1;32m    369\u001b[0m         \u001b[0;32mif\u001b[0m \u001b[0mself\u001b[0m\u001b[0;34m.\u001b[0m\u001b[0mn_outputs_\u001b[0m \u001b[0;34m==\u001b[0m \u001b[0;36m1\u001b[0m \u001b[0;32mand\u001b[0m \u001b[0mis_classifier\u001b[0m\u001b[0;34m(\u001b[0m\u001b[0mself\u001b[0m\u001b[0;34m)\u001b[0m\u001b[0;34m:\u001b[0m\u001b[0;34m\u001b[0m\u001b[0;34m\u001b[0m\u001b[0m\n",
            "\u001b[0;31mKeyboardInterrupt\u001b[0m: "
          ]
        }
      ],
      "source": [
        "x_train = x_train.reshape(-1, 10800)\n",
        "x_test = x_test.reshape(-1, 10800)\n",
        "y_train=y_train_ml\n",
        "y_test=y_test_ml\n",
        "print('x train shape', x_train.shape)\n",
        "print('y train shape',y_train.shape)\n",
        "print('x test shape',x_test.shape)\n",
        "print('y test shape',y_test.shape)\n",
        "print(\"Classfication starting\")\n",
        "success_rate=classificationsvm(x_train,y_train,x_test,y_test) # classification algorithm\n",
        "success_rate=classificationrandom(x_train,y_train,x_test,y_test)  # random forest classification\n",
        "success_rate=classificationlogistic(x_train,y_train,x_test,y_test)  #logistic regression\n",
        "success_rate=classificationbayes(x_train,y_train,x_test,y_test);    #Baysian classifier\n",
        "success_rate=classificationKnn(x_train,y_train,x_test,y_test)     #Knn Classifier\n",
        "success_rate=Gboost(x_train,y_train,x_test,y_test)  # Gradient Boosting\n",
        "success_rate=HGboost(x_train,y_train,x_test,y_test) \n",
        "success_rate=HGboostX(x_train,y_train,x_test,y_test)   # HistogramGradient Boosting\n",
        "success_rate=LightGBM(x_train,y_train,x_test,y_test)  # LightGbM"
      ]
    },
    {
      "cell_type": "code",
      "execution_count": null,
      "metadata": {
        "colab": {
          "base_uri": "https://localhost:8080/"
        },
        "id": "kgw0_PcqSHpx",
        "outputId": "2dbb54b7-562b-4161-f598-c9b2ac63d702"
      },
      "outputs": [
        {
          "name": "stdout",
          "output_type": "stream",
          "text": [
            "(12600, 24300)\n",
            "(5400, 24300)\n",
            "(12600,)\n",
            "(5400,)\n"
          ]
        }
      ],
      "source": [
        "import lightgbm\n",
        "from lightgbm import LGBMClassifier\n",
        "from sklearn.model_selection import train_test_split\n",
        "from sklearn.metrics import accuracy_score\n",
        "\n",
        "x_train = x_train.reshape(-1, 24300)\n",
        "x_test = x_test.reshape(-1, 24300)\n",
        "y_train=y_train_ml\n",
        "y_test=y_test_ml\n",
        "\n",
        "print(x_train.shape)\n",
        "print(x_test.shape)\n",
        "print(y_train.shape)\n",
        "print(y_test.shape)"
      ]
    },
    {
      "cell_type": "code",
      "execution_count": null,
      "metadata": {
        "colab": {
          "base_uri": "https://localhost:8080/",
          "height": 653
        },
        "id": "TtOeMmTVKbVO",
        "outputId": "8237a49c-29e0-40c5-f143-6c3320b5a486"
      },
      "outputs": [
        {
          "name": "stdout",
          "output_type": "stream",
          "text": [
            "0.0\n"
          ]
        },
        {
          "name": "stderr",
          "output_type": "stream",
          "text": [
            "/usr/local/lib/python3.7/dist-packages/sklearn/metrics/_classification.py:191: FutureWarning: elementwise comparison failed; returning scalar instead, but in the future will perform elementwise comparison\n",
            "  score = y_true == y_pred\n"
          ]
        },
        {
          "ename": "AttributeError",
          "evalue": "ignored",
          "output_type": "error",
          "traceback": [
            "\u001b[0;31m---------------------------------------------------------------------------\u001b[0m",
            "\u001b[0;31mAttributeError\u001b[0m                            Traceback (most recent call last)",
            "\u001b[0;32m<ipython-input-8-4de89025e261>\u001b[0m in \u001b[0;36m<module>\u001b[0;34m()\u001b[0m\n\u001b[1;32m     18\u001b[0m \u001b[0mprint\u001b[0m\u001b[0;34m(\u001b[0m\u001b[0msuccess_rate\u001b[0m\u001b[0;34m)\u001b[0m\u001b[0;34m\u001b[0m\u001b[0;34m\u001b[0m\u001b[0m\n\u001b[1;32m     19\u001b[0m \u001b[0;31m#yprediction=clf.predict(x_test)\u001b[0m\u001b[0;34m\u001b[0m\u001b[0;34m\u001b[0m\u001b[0;34m\u001b[0m\u001b[0m\n\u001b[0;32m---> 20\u001b[0;31m \u001b[0mcm\u001b[0m\u001b[0;34m.\u001b[0m\u001b[0mshow\u001b[0m\u001b[0;34m(\u001b[0m\u001b[0;34m)\u001b[0m\u001b[0;34m\u001b[0m\u001b[0;34m\u001b[0m\u001b[0m\n\u001b[0m\u001b[1;32m     21\u001b[0m \u001b[0;34m\u001b[0m\u001b[0m\n\u001b[1;32m     22\u001b[0m \u001b[0;31m#from sklearn.metrics import classification_report, confusion_matrix, accuracy_score\u001b[0m\u001b[0;34m\u001b[0m\u001b[0;34m\u001b[0m\u001b[0;34m\u001b[0m\u001b[0m\n",
            "\u001b[0;32m/usr/local/lib/python3.7/dist-packages/yellowbrick/utils/wrapper.py\u001b[0m in \u001b[0;36m__getattr__\u001b[0;34m(self, attr)\u001b[0m\n\u001b[1;32m     40\u001b[0m     \u001b[0;32mdef\u001b[0m \u001b[0m__getattr__\u001b[0m\u001b[0;34m(\u001b[0m\u001b[0mself\u001b[0m\u001b[0;34m,\u001b[0m \u001b[0mattr\u001b[0m\u001b[0;34m)\u001b[0m\u001b[0;34m:\u001b[0m\u001b[0;34m\u001b[0m\u001b[0;34m\u001b[0m\u001b[0m\n\u001b[1;32m     41\u001b[0m         \u001b[0;31m# proxy to the wrapped object\u001b[0m\u001b[0;34m\u001b[0m\u001b[0;34m\u001b[0m\u001b[0;34m\u001b[0m\u001b[0m\n\u001b[0;32m---> 42\u001b[0;31m         \u001b[0;32mreturn\u001b[0m \u001b[0mgetattr\u001b[0m\u001b[0;34m(\u001b[0m\u001b[0mself\u001b[0m\u001b[0;34m.\u001b[0m\u001b[0m_wrapped\u001b[0m\u001b[0;34m,\u001b[0m \u001b[0mattr\u001b[0m\u001b[0;34m)\u001b[0m\u001b[0;34m\u001b[0m\u001b[0;34m\u001b[0m\u001b[0m\n\u001b[0m",
            "\u001b[0;31mAttributeError\u001b[0m: 'LGBMClassifier' object has no attribute 'show'"
          ]
        },
        {
          "data": {
            "image/png": "[encoded data removed]",
            "text/plain": [
              "<Figure size 432x288 with 1 Axes>"
            ]
          },
          "metadata": {
            "tags": []
          },
          "output_type": "display_data"
        }
      ],
      "source": [
        "from yellowbrick.classifier import ConfusionMatrix\n",
        "\n",
        "def accuracy(y_true, y_pred):\n",
        "    \"\"\"精度 (Accuracy) を計算する関数\"\"\"\n",
        "    y_pred = np.rint(y_pred)\n",
        "    acc = accuracy_score(y_true, y_pred)\n",
        "    return 'accuracy', acc, True\n",
        "\n",
        "params = {\"learning_rate\": 0.8, \"n_estimators\": 2}\n",
        "clf = LGBMClassifier(random_state=0, silent=False, **params)\n",
        "class_names=['Call', 'Close', 'Cold', 'Correct', 'Fine', 'Help', 'Home', 'ILoveYou', 'Like', 'Love', 'No', 'Ok', 'Please', 'Single', 'Sit', 'Tall', 'Wash', 'Work', 'Yes', 'You']\n",
        "#classes=[0,1,2,3,4,5,6,7,8,9,10,11,12,13,14,15,16,17,18,19]\n",
        "cm = ConfusionMatrix(clf, classes=class_names,\n",
        "                     label_encoder={0:'Call',1:'Close',2: 'Cold', 3:'Correct', 4:'Fine',5: 'Help',6:'Home',7:'ILoveYou',8: 'Like', 9:'Love',10:'No',11:'Ok', 12:'Please',13:'Single',14:'Sit',15:'Tall',16:'Wash',17:'Work',18:'Yes',19:'You'})\n",
        "cm.fit(x_train, y_train)\n",
        "#clf.fit(x_train, y_train, eval_set=(x_test, y_test))\n",
        "success_rate = cm.score(x_test,y_test)\n",
        "print(success_rate)\n",
        "#yprediction=clf.predict(x_test)\n",
        "cm.show()\n",
        "\n",
        "#from sklearn.metrics import classification_report, confusion_matrix, accuracy_score\n",
        "#cm = confusion_matrix(y_test,  yprediction)\n",
        "#print(\"\\nConfusion Matrix for pca & random forest:\")\n",
        "#print(cm)\n",
        "\n"
      ]
    },
    {
      "cell_type": "code",
      "execution_count": null,
      "metadata": {
        "colab": {
          "base_uri": "https://localhost:8080/",
          "height": 240
        },
        "id": "22HWWpvGweVX",
        "outputId": "f7a4c99a-43ec-4fcc-8bf3-41338ac4df5a"
      },
      "outputs": [
        {
          "ename": "AttributeError",
          "evalue": "ignored",
          "output_type": "error",
          "traceback": [
            "\u001b[0;31m---------------------------------------------------------------------------\u001b[0m",
            "\u001b[0;31mAttributeError\u001b[0m                            Traceback (most recent call last)",
            "\u001b[0;32m<ipython-input-9-58d8e57b07d1>\u001b[0m in \u001b[0;36m<module>\u001b[0;34m()\u001b[0m\n\u001b[0;32m----> 1\u001b[0;31m \u001b[0mcm\u001b[0m\u001b[0;34m.\u001b[0m\u001b[0mshow\u001b[0m\u001b[0;34m(\u001b[0m\u001b[0;34m)\u001b[0m\u001b[0;34m\u001b[0m\u001b[0;34m\u001b[0m\u001b[0m\n\u001b[0m",
            "\u001b[0;32m/usr/local/lib/python3.7/dist-packages/yellowbrick/utils/wrapper.py\u001b[0m in \u001b[0;36m__getattr__\u001b[0;34m(self, attr)\u001b[0m\n\u001b[1;32m     40\u001b[0m     \u001b[0;32mdef\u001b[0m \u001b[0m__getattr__\u001b[0m\u001b[0;34m(\u001b[0m\u001b[0mself\u001b[0m\u001b[0;34m,\u001b[0m \u001b[0mattr\u001b[0m\u001b[0;34m)\u001b[0m\u001b[0;34m:\u001b[0m\u001b[0;34m\u001b[0m\u001b[0;34m\u001b[0m\u001b[0m\n\u001b[1;32m     41\u001b[0m         \u001b[0;31m# proxy to the wrapped object\u001b[0m\u001b[0;34m\u001b[0m\u001b[0;34m\u001b[0m\u001b[0;34m\u001b[0m\u001b[0m\n\u001b[0;32m---> 42\u001b[0;31m         \u001b[0;32mreturn\u001b[0m \u001b[0mgetattr\u001b[0m\u001b[0;34m(\u001b[0m\u001b[0mself\u001b[0m\u001b[0;34m.\u001b[0m\u001b[0m_wrapped\u001b[0m\u001b[0;34m,\u001b[0m \u001b[0mattr\u001b[0m\u001b[0;34m)\u001b[0m\u001b[0;34m\u001b[0m\u001b[0;34m\u001b[0m\u001b[0m\n\u001b[0m",
            "\u001b[0;31mAttributeError\u001b[0m: 'LGBMClassifier' object has no attribute 'show'"
          ]
        }
      ],
      "source": [
        "cm.show()"
      ]
    },
    {
      "cell_type": "code",
      "execution_count": null,
      "metadata": {
        "colab": {
          "base_uri": "https://localhost:8080/",
          "height": 1000
        },
        "id": "L3-j50E5rnEe",
        "outputId": "85663003-f2f4-49e1-ef97-53a7c42149c7"
      },
      "outputs": [
        {
          "name": "stdout",
          "output_type": "stream",
          "text": [
            "\n",
            "Classification Report for pca & random forest:\n",
            "              precision    recall  f1-score   support\n",
            "\n",
            "           0       0.99      0.98      0.99       276\n",
            "           1       0.97      0.90      0.94       288\n",
            "           2       0.95      0.98      0.96       282\n",
            "           3       0.88      0.99      0.93       281\n",
            "           4       1.00      0.95      0.97       265\n",
            "           5       1.00      0.99      0.99       271\n",
            "           6       1.00      0.98      0.99       266\n",
            "           7       0.93      0.99      0.96       275\n",
            "           8       0.99      0.99      0.99       278\n",
            "           9       1.00      0.91      0.95       285\n",
            "          10       0.95      0.98      0.97       243\n",
            "          11       0.99      0.99      0.99       243\n",
            "          12       0.95      0.87      0.91       286\n",
            "          13       0.98      1.00      0.99       268\n",
            "          14       0.95      0.94      0.94       292\n",
            "          15       1.00      0.99      0.99       267\n",
            "          16       0.95      0.99      0.97       255\n",
            "          17       0.94      0.98      0.96       248\n",
            "          18       0.99      0.98      0.98       277\n",
            "          19       0.96      0.98      0.97       254\n",
            "\n",
            "    accuracy                           0.97      5400\n",
            "   macro avg       0.97      0.97      0.97      5400\n",
            "weighted avg       0.97      0.97      0.97      5400\n",
            "\n"
          ]
        },
        {
          "data": {
            "image/png": "[encoded data removed]",
            "text/plain": [
              "<Figure size 576x576 with 2 Axes>"
            ]
          },
          "metadata": {
            "tags": []
          },
          "output_type": "display_data"
        },
        {
          "data": {
            "image/png": "[encoded data removed]",
            "text/plain": [
              "<Figure size 576x576 with 2 Axes>"
            ]
          },
          "metadata": {
            "tags": []
          },
          "output_type": "display_data"
        }
      ],
      "source": [
        "plot_confusion_matrix(cm, class_names)\n",
        "figure = plot_confusion_matrix(cm, class_names=class_names)\n",
        "result1_rf = classification_report(y_test,  yprediction)\n",
        "    \n",
        "print(\"\\nClassification Report for pca & random forest:\",)\n",
        "print (result1_rf)  "
      ]
    }
  ],
  "metadata": {
    "accelerator": "GPU",
    "colab": {
      "collapsed_sections": [
        "fuLLZ6MP9Eq1"
      ],
      "provenance": [],
      "machine_shape": "hm"
    },
    "kernelspec": {
      "display_name": "Python 3",
      "name": "python3"
    },
    "language_info": {
      "name": "python"
    }
  },
  "nbformat": 4,
  "nbformat_minor": 0
}